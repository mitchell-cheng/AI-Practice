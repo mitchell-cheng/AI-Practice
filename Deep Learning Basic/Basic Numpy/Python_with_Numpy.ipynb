{
 "cells": [
  {
   "cell_type": "markdown",
   "id": "a3076c25-4c3b-4617-ad6e-ff0ab9d99f04",
   "metadata": {},
   "source": [
    "<b>Import dependencies</b>"
   ]
  },
  {
   "cell_type": "code",
   "execution_count": 67,
   "id": "2f142321-b08f-44ac-bbe2-687b1ca90d60",
   "metadata": {},
   "outputs": [],
   "source": [
    "# import dependencies\n",
    "\n",
    "import numpy as np\n",
    "import math\n",
    "import random\n",
    "import time "
   ]
  },
  {
   "cell_type": "markdown",
   "id": "edbb3c83-0700-430e-a05e-20aa2d02e801",
   "metadata": {},
   "source": [
    "<b>Import dependencies</b>"
   ]
  },
  {
   "cell_type": "code",
   "execution_count": 36,
   "id": "4b1aca8c-d032-4cc5-b70a-f5b944bab392",
   "metadata": {},
   "outputs": [
    {
     "name": "stdout",
     "output_type": "stream",
     "text": [
      "Hello World\n"
     ]
    }
   ],
   "source": [
    "# As always, the \"hello world\" test\n",
    "\n",
    "print('Hello World')"
   ]
  },
  {
   "cell_type": "markdown",
   "id": "f4167749-063f-4f34-955a-a8bd48786a1c",
   "metadata": {},
   "source": [
    "<b>Sigmoid function</b>"
   ]
  },
  {
   "cell_type": "code",
   "execution_count": 11,
   "id": "05095735-784b-43a6-b8d4-d86cb24dea50",
   "metadata": {},
   "outputs": [],
   "source": [
    "# sigmoid function for scalar\n",
    "\n",
    "def scalar_sigmoid(z):\n",
    "    '''\n",
    "    Compute sigmoid of z.\n",
    "    \n",
    "    Args:\n",
    "    z -- a scalar\n",
    "    \n",
    "    return:\n",
    "    fx -- sigmoid(z)\n",
    "    '''\n",
    "    fx = 1 / (1 + math.exp(-z))\n",
    "    \n",
    "    return fx"
   ]
  },
  {
   "cell_type": "code",
   "execution_count": 18,
   "id": "dcac2ea8-c3e8-4935-86ec-83be60915b6e",
   "metadata": {},
   "outputs": [
    {
     "name": "stdout",
     "output_type": "stream",
     "text": [
      "sigmoid of 1: 0.7310585786300049\n"
     ]
    },
    {
     "ename": "TypeError",
     "evalue": "only size-1 arrays can be converted to Python scalars",
     "output_type": "error",
     "traceback": [
      "\u001b[0;31m---------------------------------------------------------------------------\u001b[0m",
      "\u001b[0;31mTypeError\u001b[0m                                 Traceback (most recent call last)",
      "Cell \u001b[0;32mIn[18], line 6\u001b[0m\n\u001b[1;32m      4\u001b[0m \u001b[38;5;66;03m# but it can't deal with vectors.\u001b[39;00m\n\u001b[1;32m      5\u001b[0m v \u001b[38;5;241m=\u001b[39m np\u001b[38;5;241m.\u001b[39marray([\u001b[38;5;241m1\u001b[39m, \u001b[38;5;241m2\u001b[39m, \u001b[38;5;241m3\u001b[39m])\n\u001b[0;32m----> 6\u001b[0m \u001b[38;5;28mprint\u001b[39m(\u001b[38;5;124mf\u001b[39m\u001b[38;5;124m'\u001b[39m\u001b[38;5;124msigmoid of array: \u001b[39m\u001b[38;5;132;01m{\u001b[39;00mscalar_sigmoid(v)\u001b[38;5;132;01m}\u001b[39;00m\u001b[38;5;124m'\u001b[39m)\n",
      "Cell \u001b[0;32mIn[11], line 13\u001b[0m, in \u001b[0;36mscalar_sigmoid\u001b[0;34m(z)\u001b[0m\n\u001b[1;32m      3\u001b[0m \u001b[38;5;28;01mdef\u001b[39;00m \u001b[38;5;21mscalar_sigmoid\u001b[39m(z):\n\u001b[1;32m      4\u001b[0m     \u001b[38;5;124;03m'''\u001b[39;00m\n\u001b[1;32m      5\u001b[0m \u001b[38;5;124;03m    Compute sigmoid of z.\u001b[39;00m\n\u001b[1;32m      6\u001b[0m \u001b[38;5;124;03m    \u001b[39;00m\n\u001b[0;32m   (...)\u001b[0m\n\u001b[1;32m     11\u001b[0m \u001b[38;5;124;03m    fx -- sigmoid(z)\u001b[39;00m\n\u001b[1;32m     12\u001b[0m \u001b[38;5;124;03m    '''\u001b[39;00m\n\u001b[0;32m---> 13\u001b[0m     fx \u001b[38;5;241m=\u001b[39m \u001b[38;5;241m1\u001b[39m \u001b[38;5;241m/\u001b[39m (\u001b[38;5;241m1\u001b[39m \u001b[38;5;241m+\u001b[39m \u001b[43mmath\u001b[49m\u001b[38;5;241;43m.\u001b[39;49m\u001b[43mexp\u001b[49m\u001b[43m(\u001b[49m\u001b[38;5;241;43m-\u001b[39;49m\u001b[43mz\u001b[49m\u001b[43m)\u001b[49m)\n\u001b[1;32m     15\u001b[0m     \u001b[38;5;28;01mreturn\u001b[39;00m fx\n",
      "\u001b[0;31mTypeError\u001b[0m: only size-1 arrays can be converted to Python scalars"
     ]
    }
   ],
   "source": [
    "# math sigmoid works well for scalar\n",
    "print(f'sigmoid of 1: {scalar_sigmoid(1)}')\n",
    "\n",
    "# but it can't deal with vectors.\n",
    "v = np.array([1, 2, 3])\n",
    "print(f'sigmoid of array: {scalar_sigmoid(v)}')"
   ]
  },
  {
   "cell_type": "code",
   "execution_count": 19,
   "id": "a1f25463-346f-4cfc-a0cc-dc5fe06ec74b",
   "metadata": {},
   "outputs": [],
   "source": [
    "# sigmoid function for vector\n",
    "\n",
    "def sigmoid(z):\n",
    "    '''\n",
    "    Compute sigmoid of vector z.\n",
    "    \n",
    "    Args:\n",
    "    z -- a vector\n",
    "    \n",
    "    return:\n",
    "    fx -- sigmoid(z)\n",
    "    '''\n",
    "    fx = 1 / (1 + np.exp(-z))\n",
    "    \n",
    "    return fx"
   ]
  },
  {
   "cell_type": "code",
   "execution_count": 20,
   "id": "52a3a030-e821-4111-b742-03c4c7a10922",
   "metadata": {},
   "outputs": [
    {
     "name": "stdout",
     "output_type": "stream",
     "text": [
      "sigmoid of array: [0.73105858 0.88079708 0.95257413]\n"
     ]
    }
   ],
   "source": [
    "# numpy.exp-based sigmoid can deal with vectors.\n",
    "\n",
    "v = np.array([1, 2, 3])\n",
    "print(f'sigmoid of array: {sigmoid(v)}')"
   ]
  },
  {
   "cell_type": "code",
   "execution_count": 21,
   "id": "d56b8769-9311-4de3-97d0-5a6ecd7ac3e6",
   "metadata": {},
   "outputs": [],
   "source": [
    "# sigmoid derivative\n",
    "\n",
    "def sigmoid_derivative(x):\n",
    "    '''\n",
    "    Compute the derivative or gradient of sigmoid function\n",
    "    \n",
    "    Args:\n",
    "    x -- a scalar or numpy array\n",
    "    \n",
    "    return:\n",
    "    gradient -- the gradient of input\n",
    "    '''\n",
    "    \n",
    "    gradient = sigmoid(x) * (1 - sigmoid(x))\n",
    "    \n",
    "    return gradient"
   ]
  },
  {
   "cell_type": "code",
   "execution_count": 22,
   "id": "a3ecde04-aea0-435c-9289-388ce4fc23c1",
   "metadata": {},
   "outputs": [
    {
     "name": "stdout",
     "output_type": "stream",
     "text": [
      "gradient of sigmoid: [0.19661193 0.10499359 0.04517666]\n"
     ]
    }
   ],
   "source": [
    "# sigmoid derivative.\n",
    "\n",
    "v = np.array([1, 2, 3])\n",
    "print(f'gradient of sigmoid: {sigmoid_derivative(v)}')"
   ]
  },
  {
   "cell_type": "markdown",
   "id": "011e7820-c363-48e8-95cc-10fb7a1213c0",
   "metadata": {},
   "source": [
    "<b>reshape array</b>"
   ]
  },
  {
   "cell_type": "code",
   "execution_count": 34,
   "id": "6c800241-ce3b-4e7e-b942-2e9b72d1f910",
   "metadata": {},
   "outputs": [],
   "source": [
    "# reshape arrays\n",
    "\n",
    "def image2vector(image):\n",
    "    '''\n",
    "    reshape an image to vector\n",
    "    \n",
    "    Args:\n",
    "    image -- a three dimension numpy array\n",
    "    \n",
    "    return:\n",
    "    v -- a vector\n",
    "    '''\n",
    "    width, height, channel = image.shape\n",
    "    v = image.reshape((width * height * channel), 1)\n",
    "    # or another way to do\n",
    "    # v = image.reshape(-1,1)\n",
    "    return v"
   ]
  },
  {
   "cell_type": "code",
   "execution_count": 33,
   "id": "22559892-34bd-47b0-ade8-71d7ec4f7cd1",
   "metadata": {},
   "outputs": [
    {
     "name": "stdout",
     "output_type": "stream",
     "text": [
      "the image:\n",
      " [[[ 0.04045268 -0.01971152 -0.47313115]\n",
      "  [-1.60336735 -1.93083494  0.63782758]\n",
      "  [ 0.34380439  0.65142983  0.08093146]]\n",
      "\n",
      " [[-1.00027241 -0.08807278  1.09489329]\n",
      "  [ 0.90130183  0.1696478  -0.02446409]\n",
      "  [ 1.16356785  1.09527645  0.95970551]]\n",
      "\n",
      " [[ 1.47785042 -2.76965464  0.27683257]\n",
      "  [-0.86655736  0.77620914 -0.98944492]\n",
      "  [ 0.49573564  0.02096727 -0.13865792]]] and it has shape: (3, 3, 3) \n",
      "\n",
      "the image vector:\n",
      " [[ 0.04045268]\n",
      " [-0.01971152]\n",
      " [-0.47313115]\n",
      " [-1.60336735]\n",
      " [-1.93083494]\n",
      " [ 0.63782758]\n",
      " [ 0.34380439]\n",
      " [ 0.65142983]\n",
      " [ 0.08093146]\n",
      " [-1.00027241]\n",
      " [-0.08807278]\n",
      " [ 1.09489329]\n",
      " [ 0.90130183]\n",
      " [ 0.1696478 ]\n",
      " [-0.02446409]\n",
      " [ 1.16356785]\n",
      " [ 1.09527645]\n",
      " [ 0.95970551]\n",
      " [ 1.47785042]\n",
      " [-2.76965464]\n",
      " [ 0.27683257]\n",
      " [-0.86655736]\n",
      " [ 0.77620914]\n",
      " [-0.98944492]\n",
      " [ 0.49573564]\n",
      " [ 0.02096727]\n",
      " [-0.13865792]] and it has shape: (27, 1)\n"
     ]
    }
   ],
   "source": [
    "image = np.random.randn(3,3,3)\n",
    "vector = image2vector(image)\n",
    "\n",
    "print(f'the image:\\n {image} and it has shape: {image.shape} \\n')\n",
    "print(f'the image vector:\\n {vector} and it has shape: {vector.shape}')"
   ]
  },
  {
   "cell_type": "markdown",
   "id": "b3fb593a-f43f-410c-8cc2-f51a5e3980af",
   "metadata": {},
   "source": [
    "<b>Normalization</b>"
   ]
  },
  {
   "cell_type": "code",
   "execution_count": 43,
   "id": "957783e2-f5eb-4b4a-adb6-e73f96d1a9f6",
   "metadata": {},
   "outputs": [],
   "source": [
    "def normalize(x, r_o_c):\n",
    "    '''\n",
    "    normalizing array by rows or columns\n",
    "    \n",
    "    Args:\n",
    "    x -- numpy array needed to normalized\n",
    "    roc -- string to determine normailze by row or column:\n",
    "        'r' for row\n",
    "        'c' for column\n",
    "    \n",
    "    return:\n",
    "    x_normalized -- normalized numpy array\n",
    "    '''\n",
    "    \n",
    "    if r_o_c == 'r':\n",
    "        norm = np.linalg.norm(x, ord=2, axis=1, keepdims=True)\n",
    "        x_normalized = x / norm\n",
    "    elif r_o_c == 'c':\n",
    "        norm = np.linalg.norm(x, ord=2, axis=0, keepdims=True)\n",
    "        x_normalized = x / norm\n",
    "    \n",
    "    return x_normalized"
   ]
  },
  {
   "cell_type": "code",
   "execution_count": 45,
   "id": "1af7c9be-8a3d-4895-97a2-6f8c96d6cabf",
   "metadata": {},
   "outputs": [
    {
     "name": "stdout",
     "output_type": "stream",
     "text": [
      "numpy array needs to be normalized:\n",
      " [[ 0.49082062 -0.15303719 -1.4937998 ]\n",
      " [ 0.02253928 -0.40399348  0.15050867]]\n",
      "normalizing by row:\n",
      " [[ 0.3106856  -0.09687134 -0.94556354]\n",
      " [ 0.05220958 -0.93580309  0.34863553]]\n",
      "normalizing by col:\n",
      " [[ 0.99894727 -0.354246   -0.99496248]\n",
      " [ 0.04587329 -0.93515227  0.10024803]]\n"
     ]
    }
   ],
   "source": [
    "# test the normalization process\n",
    "\n",
    "x = np.random.randn(2,3)\n",
    "print(f'numpy array needs to be normalized:\\n {x}')\n",
    "\n",
    "x_norm_by_row = normalize(x, 'r')\n",
    "print(f'normalizing by row:\\n {x_norm_by_row}')\n",
    "x_norm_by_col = normalize(x, 'c')\n",
    "print(f'normalizing by col:\\n {x_norm_by_col}')"
   ]
  },
  {
   "cell_type": "markdown",
   "id": "314c3114-954e-485f-9dbc-bf78e343c506",
   "metadata": {},
   "source": [
    "<b>Softmax</b>"
   ]
  },
  {
   "cell_type": "code",
   "execution_count": 57,
   "id": "87ef339e-9047-4e7f-9df4-885dce15e0b6",
   "metadata": {},
   "outputs": [],
   "source": [
    "def softmax(x, r_o_c):\n",
    "    '''\n",
    "    compute softmax of x\n",
    "    roc -- string to determine softmax by row or column:\n",
    "        'r' for row\n",
    "        'c' for column\n",
    "    \n",
    "    Args:\n",
    "    x -- numpy array\n",
    "    \n",
    "    return:\n",
    "    prob -- numpy array\n",
    "    '''\n",
    "    \n",
    "    x_exp = np.exp(x)\n",
    "    \n",
    "    if r_o_c == 'r':\n",
    "        x_sum_exp = np.sum(x_exp, axis=1, keepdims=True)\n",
    "        s_x = x_exp / x_sum_exp\n",
    "    elif r_o_c == 'c':\n",
    "        x_sum_exp = np.sum(x_exp, axis=0, keepdims=True)\n",
    "        s_x = x_exp / x_sum_exp\n",
    "    return s_x"
   ]
  },
  {
   "cell_type": "code",
   "execution_count": 59,
   "id": "c9111e8e-d418-4d5d-bd39-0480c51c886f",
   "metadata": {},
   "outputs": [
    {
     "name": "stdout",
     "output_type": "stream",
     "text": [
      "numpy array feds to softmax:\n",
      " [[-0.70424196  0.22364216  0.07090757]\n",
      " [ 1.31965443 -0.95033193  0.74727981]]\n",
      "softmax by row:\n",
      " [[0.17543648 0.44370554 0.38085798]\n",
      " [0.59970097 0.06195726 0.33834177]]\n",
      "softmax by col:\n",
      " [[0.1167167  0.7638626  0.33707146]\n",
      " [0.8832833  0.2361374  0.66292854]]\n"
     ]
    }
   ],
   "source": [
    "# test softmax function\n",
    "# In practice, softmax should perform on all the features of each training example\n",
    "\n",
    "x = np.random.randn(2,3)\n",
    "print(f'numpy array feds to softmax:\\n {x}')\n",
    "\n",
    "\n",
    "s_x_row = softmax(x, 'r')\n",
    "print(f'softmax by row:\\n {s_x_row}')\n",
    "s_x_col = softmax(x, 'c')\n",
    "print(f'softmax by col:\\n {s_x_col}')"
   ]
  },
  {
   "cell_type": "markdown",
   "id": "4bb2a754-c758-44af-8546-f9dd8f59700c",
   "metadata": {},
   "source": [
    "<b>Vectorization</b>"
   ]
  },
  {
   "cell_type": "code",
   "execution_count": 103,
   "id": "ef999005-7147-47f2-a6b3-645ef21dc22c",
   "metadata": {},
   "outputs": [
    {
     "name": "stdout",
     "output_type": "stream",
     "text": [
      "x1: [5, 7, 12, 11, 6, 3, 18, 19, 8, 16]\n",
      "x2: [9, 1, 6, 8, 7, 14, 5, 19, 16, 3]\n",
      "---------------------------------\n",
      "dot product: 923 and the computation time is: 0.14599999999997948 ms\n",
      "---------------------------------\n",
      "outer product:\n",
      " [[ 45.   5.  30.  40.  35.  70.  25.  95.  80.  15.]\n",
      " [ 63.   7.  42.  56.  49.  98.  35. 133. 112.  21.]\n",
      " [108.  12.  72.  96.  84. 168.  60. 228. 192.  36.]\n",
      " [ 99.  11.  66.  88.  77. 154.  55. 209. 176.  33.]\n",
      " [ 54.   6.  36.  48.  42.  84.  30. 114.  96.  18.]\n",
      " [ 27.   3.  18.  24.  21.  42.  15.  57.  48.   9.]\n",
      " [162.  18. 108. 144. 126. 252.  90. 342. 288.  54.]\n",
      " [171.  19. 114. 152. 133. 266.  95. 361. 304.  57.]\n",
      " [ 72.   8.  48.  64.  56. 112.  40. 152. 128.  24.]\n",
      " [144.  16.  96. 128. 112. 224.  80. 304. 256.  48.]] and the computation time is: 0.29699999999976967 ms\n",
      "---------------------------------\n",
      "element-wise product:\n",
      " [ 45.   7.  72.  88.  42.  42.  90. 361. 128.  48.] and the computation time is: 0.10499999999957765 ms\n",
      "---------------------------------\n",
      "general dot product:\n",
      " [[ -0.50738686]\n",
      " [-21.82137106]\n",
      " [  8.5613881 ]] and the computation time is: 0.22900000000003473 ms\n",
      "---------------------------------\n"
     ]
    }
   ],
   "source": [
    "# non-vectorizied version\n",
    "np.random.seed(1)\n",
    "\n",
    "x1: [5, 7, 12, 11, 6, 3, 18, 19, 8, 16]\n",
    "x2: [9, 1, 6, 8, 7, 14, 5, 19, 16, 3]\n",
    "\n",
    "#x1 = random.sample(range(1, 20), 10)\n",
    "#x2 = random.sample(range(1, 20), 10)\n",
    "\n",
    "print(f'x1: {x1}')\n",
    "print(f'x2: {x2}')\n",
    "print('---------------------------------')\n",
    "\n",
    "# dot product\n",
    "dot = 0\n",
    "tic = time.process_time()\n",
    "for i in range(len(x1)):\n",
    "    dot += x1[i] * x2[i]\n",
    "toc = time.process_time()\n",
    "print(f'dot product: {dot} and the computation time is: {1000*(toc-tic)} ms')\n",
    "print('---------------------------------')\n",
    "\n",
    "# outer product\n",
    "outer = np.zeros((len(x1), len(x2)))\n",
    "tic = time.process_time()\n",
    "for i in range(len(x1)):\n",
    "    for j in range(len(x2)):\n",
    "        outer[i][j] = x1[i] * x2[j]\n",
    "toc = time.process_time()\n",
    "print(f'outer product:\\n {outer} and the computation time is: {1000*(toc-tic)} ms')\n",
    "print('---------------------------------')\n",
    "\n",
    "# element-wise product\n",
    "ele_w_p = np.zeros(len(x1))\n",
    "tic = time.process_time()\n",
    "for i in range(len(x1)):\n",
    "    ele_w_p[i] = x1[i] * x2[i]\n",
    "toc = time.process_time()\n",
    "print(f'element-wise product:\\n {ele_w_p} and the computation time is: {1000*(toc-tic)} ms')\n",
    "print('---------------------------------')\n",
    "\n",
    "# general dot product\n",
    "W = np.random.randn(3, len(x1))\n",
    "g_d_p = np.zeros((W.shape[0], 1))\n",
    "tic = time.process_time()\n",
    "for i in range(W.shape[0]):\n",
    "    for j in range(len(x1)):\n",
    "        g_d_p[i] += W[i][j] * x1[j]\n",
    "toc = time.process_time()\n",
    "print(f'general dot product:\\n {g_d_p} and the computation time is: {1000*(toc-tic)} ms')\n",
    "print('---------------------------------')"
   ]
  },
  {
   "cell_type": "code",
   "execution_count": 104,
   "id": "ea61c06f-422e-4ed3-9247-55538007ded7",
   "metadata": {},
   "outputs": [
    {
     "name": "stdout",
     "output_type": "stream",
     "text": [
      "x1: [5, 7, 12, 11, 6, 3, 18, 19, 8, 16]\n",
      "x2: [9, 1, 6, 8, 7, 14, 5, 19, 16, 3]\n",
      "---------------------------------\n",
      "dot product: 923 and the computation time is: 0.17999999999940286 ms\n",
      "---------------------------------\n",
      "outer product:\n",
      " [[ 45   5  30  40  35  70  25  95  80  15]\n",
      " [ 63   7  42  56  49  98  35 133 112  21]\n",
      " [108  12  72  96  84 168  60 228 192  36]\n",
      " [ 99  11  66  88  77 154  55 209 176  33]\n",
      " [ 54   6  36  48  42  84  30 114  96  18]\n",
      " [ 27   3  18  24  21  42  15  57  48   9]\n",
      " [162  18 108 144 126 252  90 342 288  54]\n",
      " [171  19 114 152 133 266  95 361 304  57]\n",
      " [ 72   8  48  64  56 112  40 152 128  24]\n",
      " [144  16  96 128 112 224  80 304 256  48]] and the computation time is: 0.16899999999964166 ms\n",
      "---------------------------------\n",
      "element-wise product:\n",
      " [ 45   7  72  88  42  42  90 361 128  48] and the computation time is: 0.15799999999988046 ms\n",
      "---------------------------------\n",
      "general dot product:\n",
      " [ -0.50738686 -21.82137106   8.5613881 ] and the computation time is: 0.08799999999986596 ms\n",
      "---------------------------------\n"
     ]
    }
   ],
   "source": [
    "# vectorized version \n",
    "np.random.seed(1)\n",
    "\n",
    "x1: [5, 7, 12, 11, 6, 3, 18, 19, 8, 16]\n",
    "x2: [9, 1, 6, 8, 7, 14, 5, 19, 16, 3]\n",
    "\n",
    "#x1 = random.sample(range(1, 20), 10)\n",
    "#x2 = random.sample(range(1, 20), 10)\n",
    "\n",
    "print(f'x1: {x1}')\n",
    "print(f'x2: {x2}')\n",
    "print('---------------------------------')\n",
    "\n",
    "# dot product\n",
    "tic = time.process_time()\n",
    "dot = np.dot(x1, x2)\n",
    "toc = time.process_time()\n",
    "print(f'dot product: {dot} and the computation time is: {1000*(toc-tic)} ms')\n",
    "print('---------------------------------')\n",
    "\n",
    "# outer product\n",
    "tic = time.process_time()\n",
    "outer = np.outer(x1, x2)\n",
    "toc = time.process_time()\n",
    "print(f'outer product:\\n {outer} and the computation time is: {1000*(toc-tic)} ms')\n",
    "print('---------------------------------')\n",
    "\n",
    "# element-wise product\n",
    "tic = time.process_time()\n",
    "ele_w_p = np.multiply(x1, x2)\n",
    "toc = time.process_time()\n",
    "print(f'element-wise product:\\n {ele_w_p} and the computation time is: {1000*(toc-tic)} ms')\n",
    "print('---------------------------------')\n",
    "\n",
    "# general dot product\n",
    "W = np.random.randn(3, len(x1))\n",
    "tic = time.process_time()\n",
    "g_d_p = np.dot(W,x1)\n",
    "toc = time.process_time()\n",
    "print(f'general dot product:\\n {g_d_p} and the computation time is: {1000*(toc-tic)} ms')\n",
    "print('---------------------------------')"
   ]
  },
  {
   "cell_type": "markdown",
   "id": "ccad8b46-ca89-4bcc-be19-519dcfea20ca",
   "metadata": {},
   "source": [
    "<b>L1 and L2 Loss</b>"
   ]
  },
  {
   "cell_type": "code",
   "execution_count": 106,
   "id": "6d8156ba-38e8-4b47-bfef-6ab63277751f",
   "metadata": {},
   "outputs": [],
   "source": [
    "def l1_loss(y, yhat):\n",
    "    '''\n",
    "    compute the l1 loss(distance)\n",
    "    \n",
    "    Args:\n",
    "    y -- ground-truth array\n",
    "    yhat -- predicted array\n",
    "    \n",
    "    return:\n",
    "    l1_dist -- a scalar\n",
    "    '''\n",
    "    \n",
    "    l1_dist = np.sum(abs(y - yhat))\n",
    "    \n",
    "    return l1_dist"
   ]
  },
  {
   "cell_type": "code",
   "execution_count": 129,
   "id": "ec71cd9b-fabf-43d7-852a-6c6a7ea246bb",
   "metadata": {},
   "outputs": [],
   "source": [
    "def l2_loss(y, yhat):\n",
    "    '''\n",
    "    compute the l2 loss(distance)\n",
    "    \n",
    "    Args:\n",
    "    y -- ground-truth array\n",
    "    yhat -- predicted array\n",
    "    \n",
    "    return:\n",
    "    l2_dist -- a scalar\n",
    "    '''\n",
    "    \n",
    "    l2_dist = np.sum((np.square(y - yhat)))\n",
    "    \n",
    "    return l2_dist"
   ]
  },
  {
   "cell_type": "code",
   "execution_count": 131,
   "id": "8c877ce1-7aa3-4408-9971-112145318321",
   "metadata": {},
   "outputs": [
    {
     "name": "stdout",
     "output_type": "stream",
     "text": [
      "predicted array:\n",
      " [[ 1.16033857  0.36949272  1.90465871  1.1110567   0.6590498  -1.62743834\n",
      "   0.60231928  0.4202822   0.81095167  1.04444209]]\n",
      "ground-truth array:\n",
      " [[-0.40087819  0.82400562 -0.56230543  1.95487808 -1.33195167 -1.76068856\n",
      "  -1.65072127 -0.89055558 -1.1191154   1.9560789 ]]\n",
      "the l1 loss: 13.85634907635547 and the l2 loss: 24.774496760768955\n"
     ]
    }
   ],
   "source": [
    "# test the loss\n",
    "y = np.random.randn(1,10)\n",
    "yhat = np.random.randn(1,10)\n",
    "\n",
    "print(f'predicted array:\\n {y}')\n",
    "print(f'ground-truth array:\\n {yhat}')\n",
    "\n",
    "l1 = l1_loss(y, yhat)\n",
    "l2 = l2_loss(y, yhat)\n",
    "print(f'the l1 loss: {l1} and the l2 loss: {l2}')"
   ]
  }
 ],
 "metadata": {
  "kernelspec": {
   "display_name": "Python 3 (ipykernel)",
   "language": "python",
   "name": "python3"
  },
  "language_info": {
   "codemirror_mode": {
    "name": "ipython",
    "version": 3
   },
   "file_extension": ".py",
   "mimetype": "text/x-python",
   "name": "python",
   "nbconvert_exporter": "python",
   "pygments_lexer": "ipython3",
   "version": "3.9.12"
  }
 },
 "nbformat": 4,
 "nbformat_minor": 5
}
