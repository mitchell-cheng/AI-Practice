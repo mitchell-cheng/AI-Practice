{
 "cells": [
  {
   "cell_type": "markdown",
   "id": "3c6cbc35-7581-41ac-9e00-7a260d9f0a2d",
   "metadata": {},
   "source": [
    "<b>Import dependencies</b>"
   ]
  },
  {
   "cell_type": "code",
   "execution_count": 1,
   "id": "c2a94b6d-c021-450a-93ac-fdc95eca30cf",
   "metadata": {},
   "outputs": [],
   "source": [
    "import time\n",
    "import numpy \n",
    "import h5py\n",
    "import matplotlib.pyplot as plt\n",
    "import scipy\n",
    "from PIL import Image\n",
    "from scipy import ndimage\n",
    "from dnn_utils import *\n",
    "np.random.seed(1)"
   ]
  },
  {
   "cell_type": "markdown",
   "id": "03ecf14f-f61f-4779-9425-6a5895184c26",
   "metadata": {},
   "source": [
    "<b>Load dataset</b>"
   ]
  },
  {
   "cell_type": "code",
   "execution_count": 2,
   "id": "8f90eb5b-2066-4fad-8647-8be473062d7a",
   "metadata": {},
   "outputs": [],
   "source": [
    "# load dataset\n",
    "\n",
    "training_set_x_orig, training_set_y_orig, test_set_x_orig, test_set_y_orig, classes = load_data()"
   ]
  },
  {
   "cell_type": "code",
   "execution_count": 29,
   "id": "769c6637-92b1-4524-b1de-8b8f98859a00",
   "metadata": {},
   "outputs": [
    {
     "name": "stdout",
     "output_type": "stream",
     "text": [
      "y = 0 and b'non-cat'\n"
     ]
    },
    {
     "data": {
      "image/png": "[encoded data removed]",
      "text/plain": [
       "<Figure size 640x480 with 1 Axes>"
      ]
     },
     "metadata": {},
     "output_type": "display_data"
    }
   ],
   "source": [
    "# check one image\n",
    "\n",
    "index = 10\n",
    "plt.imshow(training_set_x_orig[index])\n",
    "print(f'y = {training_set_y_orig[0, index]} and {classes[training_set_y_orig[0, index]]}')"
   ]
  },
  {
   "cell_type": "code",
   "execution_count": 4,
   "id": "058228cd-76c6-4bb6-b667-6af24eec52c0",
   "metadata": {},
   "outputs": [
    {
     "name": "stdout",
     "output_type": "stream",
     "text": [
      "the training data shape: (209, 64, 64, 3)\n",
      "the training label shape: (1, 209)\n",
      "the test data shape: (50, 64, 64, 3)\n",
      "the test label shape: (1, 50)\n",
      "each training sample has 64 pixels\n",
      "each test sample has 64 pixels\n"
     ]
    }
   ],
   "source": [
    "# check dataset\n",
    "\n",
    "print(f'the training data shape: {training_set_x_orig.shape}')\n",
    "print(f'the training label shape: {training_set_y_orig.shape}')\n",
    "print(f'the test data shape: {test_set_x_orig.shape}')\n",
    "print(f'the test label shape: {test_set_y_orig.shape}')\n",
    "print(f'each training sample has {training_set_x_orig.shape[1]} pixels')\n",
    "print(f'each test sample has {test_set_x_orig.shape[1]} pixels')"
   ]
  },
  {
   "cell_type": "code",
   "execution_count": 5,
   "id": "3926f570-9f8f-4706-903a-3e8413291bca",
   "metadata": {},
   "outputs": [],
   "source": [
    "# reshape the training and test data\n",
    "\n",
    "training_data_reshape = np.reshape(training_set_x_orig, (-1, training_set_x_orig.shape[0]))\n",
    "test_data_reshape = np.reshape(test_set_x_orig, (-1, test_set_x_orig.shape[0]))"
   ]
  },
  {
   "cell_type": "code",
   "execution_count": 6,
   "id": "6983e4a0-e729-47bf-af15-9a989c187db8",
   "metadata": {},
   "outputs": [
    {
     "name": "stdout",
     "output_type": "stream",
     "text": [
      "the training data shape: (12288, 209)\n",
      "the test data shape: (12288, 50)\n"
     ]
    }
   ],
   "source": [
    "# check dataset\n",
    "\n",
    "print(f'the training data shape: {training_data_reshape.shape}')\n",
    "print(f'the test data shape: {test_data_reshape.shape}')"
   ]
  },
  {
   "cell_type": "code",
   "execution_count": 7,
   "id": "6ec3cd71-8ceb-4124-b597-92443e233a35",
   "metadata": {},
   "outputs": [],
   "source": [
    "# preprocessing the data\n",
    "\n",
    "training_data = training_data_reshape / 255.\n",
    "test_data = test_data_reshape / 255.\n",
    "training_label = training_set_y_orig\n",
    "test_label = test_set_y_orig"
   ]
  },
  {
   "cell_type": "code",
   "execution_count": 8,
   "id": "785081ca-805a-4072-8adb-38b873899e1f",
   "metadata": {},
   "outputs": [
    {
     "name": "stdout",
     "output_type": "stream",
     "text": [
      "the training data:\n",
      " [[0.06666667 0.12156863 0.21960784 ... 0.26666667 0.12941176 0.16078431]\n",
      " [0.27843137 0.13333333 0.17254902 ... 0.18431373 0.30196078 0.15686275]\n",
      " [0.19215686 0.30980392 0.15686275 ... 0.14901961 0.18039216 0.29411765]\n",
      " ...\n",
      " [0.         0.         0.         ... 0.         0.         0.        ]\n",
      " [0.         0.         0.         ... 0.         0.         0.        ]\n",
      " [0.         0.         0.         ... 0.         0.         0.        ]]\n",
      "the training label:\n",
      " [[0 0 1 0 0 0 0 1 0 0 0 1 0 1 1 0 0 0 0 1 0 0 0 0 1 1 0 1 0 1 0 0 0 0 0 0\n",
      "  0 0 1 0 0 1 1 0 0 0 0 1 0 0 1 0 0 0 1 0 1 1 0 1 1 1 0 0 0 0 0 0 1 0 0 1\n",
      "  0 0 0 0 0 0 0 0 0 0 0 1 1 0 0 0 1 0 0 0 1 1 1 0 0 1 0 0 0 0 1 0 1 0 1 1\n",
      "  1 1 1 1 0 0 0 0 0 1 0 0 0 1 0 0 1 0 1 0 1 1 0 0 0 1 1 1 1 1 0 0 0 0 1 0\n",
      "  1 1 1 0 1 1 0 0 0 1 0 0 1 0 0 0 0 0 1 0 1 0 1 0 0 1 1 1 0 0 1 1 0 1 0 1\n",
      "  0 0 0 0 0 1 0 0 1 0 0 0 1 0 0 0 0 1 0 0 1 0 0 0 0 0 0 0 0]]\n",
      "the test data:\n",
      " [[0.61960784 0.40784314 0.3254902  ... 0.36470588 0.64313725 0.43921569]\n",
      " [0.35294118 0.64705882 0.43529412 ... 0.45490196 0.36470588 0.65490196]\n",
      " [0.45098039 0.36862745 0.67058824 ... 0.69411765 0.50196078 0.41960784]\n",
      " ...\n",
      " [0.36078431 0.55686275 0.34117647 ... 0.18823529 0.16862745 0.34117647]\n",
      " [0.12156863 0.19215686 0.34901961 ... 0.2745098  0.10588235 0.13333333]\n",
      " [0.29803922 0.15294118 0.14509804 ... 0.01960784 0.08627451 0.01960784]]\n",
      "the test label:\n",
      " [[1 1 1 1 1 0 1 1 1 1 1 1 1 0 0 1 0 1 1 1 1 0 0 1 1 1 1 0 1 0 1 1 1 1 0 0\n",
      "  0 1 0 0 1 1 1 0 0 0 1 1 1 0]]\n"
     ]
    }
   ],
   "source": [
    "# check the data\n",
    "print(f'the training data:\\n {training_data}')\n",
    "print(f'the training label:\\n {training_label}')\n",
    "print(f'the test data:\\n {test_data}')\n",
    "print(f'the test label:\\n {test_label}')"
   ]
  },
  {
   "cell_type": "code",
   "execution_count": 9,
   "id": "428a1931-6d0c-4a2a-b943-36cc422ac383",
   "metadata": {},
   "outputs": [
    {
     "name": "stdout",
     "output_type": "stream",
     "text": [
      "the training data:\n",
      " (12288, 209)\n",
      "the training label:\n",
      " (1, 209)\n",
      "the test data:\n",
      " (12288, 50)\n",
      "the test label:\n",
      " (1, 50)\n"
     ]
    }
   ],
   "source": [
    "# and the shape\n",
    "\n",
    "print(f'the training data:\\n {training_data.shape}')\n",
    "print(f'the training label:\\n {training_label.shape}')\n",
    "print(f'the test data:\\n {test_data.shape}')\n",
    "print(f'the test label:\\n {test_label.shape}')"
   ]
  },
  {
   "cell_type": "code",
   "execution_count": 10,
   "id": "ee7c231e-0167-4dde-8fbd-c4937c574776",
   "metadata": {},
   "outputs": [
    {
     "name": "stdout",
     "output_type": "stream",
     "text": [
      "there are 209 training data in total\n",
      "there are 50 test data in total\n"
     ]
    }
   ],
   "source": [
    "# number of dataset\n",
    "\n",
    "print(f'there are {training_data.shape[1]} training data in total')\n",
    "print(f'there are {test_data.shape[1]} test data in total')"
   ]
  },
  {
   "cell_type": "markdown",
   "id": "7d7ac972-9dd0-46e9-a7f8-56664d68b873",
   "metadata": {},
   "source": [
    "<b>Build a two-layer neural network</b>"
   ]
  },
  {
   "cell_type": "code",
   "execution_count": 23,
   "id": "4e0bc510-775d-403a-bdcc-9f1d0cebb638",
   "metadata": {},
   "outputs": [],
   "source": [
    "# the constants that define neural network architecture\n",
    "\n",
    "n_x = 12288\n",
    "n_h = 7\n",
    "n_y = 1\n",
    "layers_dims = (n_x, n_h, n_y)\n",
    "learning_rate = 0.01\n",
    "num_iterations = 2500"
   ]
  },
  {
   "cell_type": "code",
   "execution_count": 24,
   "id": "a86e619e-b18e-4e9b-a346-9092441d9671",
   "metadata": {
    "tags": []
   },
   "outputs": [],
   "source": [
    "def two_layer_model(X, Y, layers_dims, learning_rate, num_iterations):\n",
    "    '''\n",
    "    using the helper functions from dnn_utils to implement a two layer neural network\n",
    "    \n",
    "    Args:\n",
    "    X -- training data\n",
    "    Y -- training label\n",
    "    layers_dims -- layer infos\n",
    "    learning_rate -- learning rate alpha\n",
    "    num_iterations -- num iterations\n",
    "    '''\n",
    "    np.random.seed(1)\n",
    "    \n",
    "    # prepare caches and grads\n",
    "    caches = []\n",
    "    grads = {}\n",
    "    \n",
    "    # retrieve dimensions\n",
    "    n_x, n_h, n_y = layers_dims\n",
    "\n",
    "    # init parameters \n",
    "    parameters = init_parameters(n_x, n_h, n_y)\n",
    "\n",
    "    # retrieve parameters\n",
    "    W1 = parameters['W' + str(1)]\n",
    "    b1 = parameters['b' + str(1)]\n",
    "    W2 = parameters['W' + str(2)]\n",
    "    b2 = parameters['b' + str(2)]\n",
    "    \n",
    "    updated_parameters = parameters.copy()\n",
    "    \n",
    "    for i in range(num_iterations):\n",
    "        # linear activation forward\n",
    "        A1, linear_activation_cache1 = linear_activation_forward(X, W1, b1, 'relu')\n",
    "        caches.append(linear_activation_cache1)\n",
    "        A2, linear_activation_cache2 = linear_activation_forward(A1, W2, b2, 'sigmoid')\n",
    "        caches.append(linear_activation_cache2)\n",
    "\n",
    "        # compute the cost\n",
    "        cost = compute_cost(Y, A2)\n",
    "\n",
    "        # compute dloss\n",
    "        dloss = -(np.divide(Y, A2) - np.divide(1-Y, 1-A2))\n",
    "\n",
    "        # linear activation backward\n",
    "        linear_activation_grads = linear_activation_backward(dloss, linear_activation_cache2, 'sigmoid')\n",
    "        dW2 = linear_activation_grads['dW']\n",
    "        db2 = linear_activation_grads['db']\n",
    "        dA_prev1 = linear_activation_grads['dA_prev']\n",
    "        grads['dW' + str(2)] = dW2\n",
    "        grads['db' + str(2)] = db2\n",
    "        grads['dA_prev' + str(1)] = dA_prev1\n",
    "        linear_activation_grads = linear_activation_backward(dA_prev1, linear_activation_cache1, 'relu')\n",
    "        dW1 = linear_activation_grads['dW']\n",
    "        db1 = linear_activation_grads['db']\n",
    "        dA_prev0 = linear_activation_grads['dA_prev']\n",
    "        grads['dW' + str(1)] = dW1\n",
    "        grads['db' + str(1)] = db1\n",
    "        grads['dA_prev' + str(0)] = dA_prev0\n",
    "\n",
    "        # update model parameters\n",
    "        updated_parameters = update_params(updated_parameters, grads, learning_rate)\n",
    "        \n",
    "        W1 = updated_parameters['W' + str(1)]\n",
    "        b1 = updated_parameters['b' + str(1)]\n",
    "        W2 = updated_parameters['W' + str(2)]\n",
    "        b2 = updated_parameters['b' + str(2)]\n",
    "    \n",
    "        if i % 100 == 0:\n",
    "            print(f'the model cost: {cost} at {i+1} epoch')\n",
    "        \n",
    "    return updated_parameters"
   ]
  },
  {
   "cell_type": "code",
   "execution_count": 25,
   "id": "5b4c9011-ce9f-4898-8afd-f336efa77387",
   "metadata": {},
   "outputs": [
    {
     "name": "stdout",
     "output_type": "stream",
     "text": [
      "the model cost: 0.6925791115138538 at 1 epoch\n",
      "the model cost: 0.6349483149733486 at 101 epoch\n",
      "the model cost: 0.6186792593651596 at 201 epoch\n",
      "the model cost: 0.6013890861848461 at 301 epoch\n",
      "the model cost: 0.5820875509573135 at 401 epoch\n",
      "the model cost: 0.5606352394065434 at 501 epoch\n",
      "the model cost: 0.5353630186978522 at 601 epoch\n",
      "the model cost: 0.5180960716050433 at 701 epoch\n",
      "the model cost: 0.5136520924287352 at 801 epoch\n",
      "the model cost: 0.5083413384862406 at 901 epoch\n",
      "the model cost: 0.5007783957827835 at 1001 epoch\n",
      "the model cost: 0.4907915900508271 at 1101 epoch\n",
      "the model cost: 0.47102846003613763 at 1201 epoch\n",
      "the model cost: 0.4872579183205859 at 1301 epoch\n",
      "the model cost: 0.4582359023503853 at 1401 epoch\n",
      "the model cost: 0.4506716425919628 at 1501 epoch\n",
      "the model cost: 0.4451584197979205 at 1601 epoch\n",
      "the model cost: 0.43432532526173 at 1701 epoch\n",
      "the model cost: 0.4273199023135291 at 1801 epoch\n",
      "the model cost: 0.43333598372556503 at 1901 epoch\n",
      "the model cost: 0.41661582410819764 at 2001 epoch\n",
      "the model cost: 0.49423909357927126 at 2101 epoch\n",
      "the model cost: 0.4713879210882156 at 2201 epoch\n",
      "the model cost: 0.49729254800855743 at 2301 epoch\n",
      "the model cost: 0.39799767255230367 at 2401 epoch\n"
     ]
    }
   ],
   "source": [
    "# training\n",
    "\n",
    "best_parameters = two_layer_model(training_data, training_label, layers_dims, learning_rate, num_iterations)"
   ]
  },
  {
   "cell_type": "code",
   "execution_count": 26,
   "id": "847389fa-f084-4174-a68d-d74dca4ea253",
   "metadata": {},
   "outputs": [
    {
     "name": "stdout",
     "output_type": "stream",
     "text": [
      "the best parameters found by neural network:\n",
      " {'W1': array([[ 0.01456259, -0.00500505, -0.00560462, ..., -0.00527214,\n",
      "        -0.0038034 ,  0.00949412],\n",
      "       [ 0.01006608,  0.00227821, -0.00664437, ...,  0.00689859,\n",
      "        -0.00488322,  0.0020761 ],\n",
      "       [-0.00395713, -0.00216168,  0.00692414, ...,  0.00822751,\n",
      "        -0.00104425, -0.00657957],\n",
      "       ...,\n",
      "       [-0.00205167,  0.01222335, -0.01279997, ...,  0.00370126,\n",
      "         0.01033177, -0.00896044],\n",
      "       [ 0.00487913,  0.00350058, -0.00084749, ..., -0.00559281,\n",
      "         0.00325022,  0.00231429],\n",
      "       [ 0.00576586,  0.02492089, -0.01011163, ...,  0.0216518 ,\n",
      "        -0.00842579,  0.00359795]]), 'b1': array([[ 4.34438033e-04],\n",
      "       [-1.30315921e-04],\n",
      "       [ 5.74055304e-04],\n",
      "       [-4.74088993e-05],\n",
      "       [ 2.46820062e-03],\n",
      "       [ 0.00000000e+00],\n",
      "       [ 2.98570464e-05]]), 'W2': array([[-0.76009424,  0.03833784, -0.38108045,  0.02807113,  0.30876863,\n",
      "         0.01565835, -0.38230759]]), 'b2': array([[0.04087383]])}\n"
     ]
    }
   ],
   "source": [
    "print(f'the best parameters found by neural network:\\n {best_parameters}')"
   ]
  },
  {
   "cell_type": "code",
   "execution_count": 27,
   "id": "934e7fc9-f60c-43bc-a204-1db01f02de80",
   "metadata": {},
   "outputs": [
    {
     "name": "stdout",
     "output_type": "stream",
     "text": [
      "Acc 0.8708133971291865\n"
     ]
    }
   ],
   "source": [
    "# training Acc\n",
    "train_p = predict(training_data, training_label, best_parameters)"
   ]
  },
  {
   "cell_type": "code",
   "execution_count": 28,
   "id": "fd107a83-3a56-4e29-901f-46baa4009f06",
   "metadata": {},
   "outputs": [
    {
     "name": "stdout",
     "output_type": "stream",
     "text": [
      "Acc 0.5000000000000001\n"
     ]
    }
   ],
   "source": [
    "# testing Acc\n",
    "test_p = predict(test_data, test_label, best_parameters)"
   ]
  },
  {
   "cell_type": "markdown",
   "id": "fd46677e-ac9e-4caa-8867-93505e631225",
   "metadata": {},
   "source": [
    "<b>Let's try n-layer neural network</b>"
   ]
  },
  {
   "cell_type": "code",
   "execution_count": 17,
   "id": "63f53101-2b21-44a3-9f35-89ad91d3385b",
   "metadata": {},
   "outputs": [],
   "source": [
    "# the constants that define neural network architecture\n",
    "\n",
    "layers_dims = [12288, 20, 7, 5, 1]\n",
    "learning_rate = 0.1\n",
    "num_iterations = 2500"
   ]
  },
  {
   "cell_type": "code",
   "execution_count": 18,
   "id": "73c4ec96-e881-4af4-94eb-8d94d6995d81",
   "metadata": {},
   "outputs": [],
   "source": [
    "def n_layer_model(X, Y, layers_dims, learning_rate, num_iterations):\n",
    "    '''\n",
    "    using the helper functions from dnn_utils to implement a two layer neural network\n",
    "    \n",
    "    Args:\n",
    "    X -- training data\n",
    "    Y -- training label\n",
    "    layers_dims -- layer infos\n",
    "    learning_rate -- learning rate alpha\n",
    "    num_iterations -- num iterations\n",
    "    '''\n",
    "    np.random.seed(1)\n",
    "    \n",
    "    # init parameters \n",
    "    parameters = init_l_layer_parameters(layers_dims)\n",
    "    \n",
    "    updated_parameters = parameters.copy()\n",
    "    \n",
    "    for i in range(num_iterations):\n",
    "        # linear activation forward\n",
    "        A_out, cache = l_layer_linear_activation_forward(X, updated_parameters)\n",
    "\n",
    "        # compute the cost\n",
    "        cost = compute_cost(Y, A_out)\n",
    "\n",
    "        # linear activation backward\n",
    "        grads = l_layer_linear_activation_backward(A_out, Y, cache)\n",
    "\n",
    "        # update model parameters\n",
    "        updated_parameters = update_params(updated_parameters, grads, learning_rate)\n",
    "        \n",
    "        if i % 100 == 0:\n",
    "            print(f'the model cost: {cost} at {i+1} epoch')\n",
    "    \n",
    "    return updated_parameters"
   ]
  },
  {
   "cell_type": "code",
   "execution_count": 19,
   "id": "4a0987b4-94f4-42d9-8780-17f85a3186cb",
   "metadata": {},
   "outputs": [
    {
     "name": "stdout",
     "output_type": "stream",
     "text": [
      "the model cost: 0.693148353485136 at 1 epoch\n",
      "the model cost: 0.6443934163782795 at 101 epoch\n",
      "the model cost: 0.6439780046489012 at 201 epoch\n",
      "the model cost: 0.643973792352469 at 301 epoch\n",
      "the model cost: 0.6439737472186693 at 401 epoch\n",
      "the model cost: 0.6439737453626406 at 501 epoch\n",
      "the model cost: 0.6439737435076152 at 601 epoch\n",
      "the model cost: 0.6439737420070566 at 701 epoch\n",
      "the model cost: 0.6439737405526949 at 801 epoch\n",
      "the model cost: 0.6439737394511131 at 901 epoch\n",
      "the model cost: 0.6439737384479658 at 1001 epoch\n",
      "the model cost: 0.6439737374868911 at 1101 epoch\n",
      "the model cost: 0.6439737365672091 at 1201 epoch\n",
      "the model cost: 0.6439737356603599 at 1301 epoch\n",
      "the model cost: 0.6439737347740704 at 1401 epoch\n",
      "the model cost: 0.643973733870355 at 1501 epoch\n",
      "the model cost: 0.6439737329615748 at 1601 epoch\n",
      "the model cost: 0.6439737320092712 at 1701 epoch\n",
      "the model cost: 0.6439737310770397 at 1801 epoch\n",
      "the model cost: 0.6439737301192403 at 1901 epoch\n",
      "the model cost: 0.6439737291784948 at 2001 epoch\n",
      "the model cost: 0.6439737281988498 at 2101 epoch\n",
      "the model cost: 0.6439737272462164 at 2201 epoch\n",
      "the model cost: 0.6439737262926015 at 2301 epoch\n",
      "the model cost: 0.6439737253265563 at 2401 epoch\n"
     ]
    }
   ],
   "source": [
    "# training\n",
    "\n",
    "best_parameters = n_layer_model(training_data, training_label, layers_dims, learning_rate, num_iterations)"
   ]
  },
  {
   "cell_type": "code",
   "execution_count": 20,
   "id": "2a51df96-73af-4385-bc56-3a510d8b1c11",
   "metadata": {},
   "outputs": [
    {
     "name": "stdout",
     "output_type": "stream",
     "text": [
      "the best parameters found by neural network:\n",
      " {'W1': array([[ 0.01624233, -0.00611619, -0.00528016, ..., -0.00527214,\n",
      "        -0.0038034 ,  0.00949412],\n",
      "       [ 0.0100924 ,  0.00229743, -0.00664173, ...,  0.00689859,\n",
      "        -0.00488322,  0.0020761 ],\n",
      "       [-0.00356215, -0.00195484,  0.00636756, ...,  0.00822751,\n",
      "        -0.00104425, -0.00657957],\n",
      "       ...,\n",
      "       [ 0.00174477, -0.00130072,  0.01835906, ..., -0.00922606,\n",
      "        -0.00824792, -0.00153355],\n",
      "       [-0.0003495 , -0.00417018, -0.0085517 , ...,  0.02247331,\n",
      "        -0.00533637, -0.00029554],\n",
      "       [-0.01434112, -0.01110638,  0.00726304, ...,  0.0219863 ,\n",
      "         0.01538192,  0.00746604]]), 'b1': array([[ 1.71809753e-06],\n",
      "       [-4.72805302e-06],\n",
      "       [ 8.55869114e-07],\n",
      "       [ 9.24378906e-07],\n",
      "       [-3.23241460e-06],\n",
      "       [ 0.00000000e+00],\n",
      "       [ 3.02614456e-06],\n",
      "       [-3.13521341e-06],\n",
      "       [-1.55423944e-06],\n",
      "       [-7.39552949e-06],\n",
      "       [ 5.65888273e-06],\n",
      "       [-9.70023822e-06],\n",
      "       [-1.22902400e-06],\n",
      "       [-6.10109462e-06],\n",
      "       [ 2.13690685e-07],\n",
      "       [-1.26438300e-06],\n",
      "       [ 1.04945222e-06],\n",
      "       [-2.45207869e-06],\n",
      "       [ 0.00000000e+00],\n",
      "       [ 3.74598405e-06]]), 'W2': array([[ 9.19637417e-03, -1.38066258e-02, -1.65893297e-02,\n",
      "        -1.79662011e-03,  2.78031359e-03,  5.51618105e-03,\n",
      "         1.40636093e-02,  2.38399646e-03,  2.38105974e-03,\n",
      "         6.22486223e-03,  9.77691066e-03, -2.82946168e-02,\n",
      "        -6.94380547e-03,  4.55607515e-03, -6.31073933e-03,\n",
      "         2.36753087e-03,  5.12942409e-03,  1.88924200e-02,\n",
      "         4.85457191e-03, -9.72052193e-03],\n",
      "       [ 1.09488402e-02, -4.11130621e-03,  1.13774330e-02,\n",
      "         1.07726278e-02, -3.28416802e-03, -1.40468582e-02,\n",
      "        -1.05856780e-02,  1.71545563e-02, -2.71138901e-03,\n",
      "         1.64986417e-02, -1.51072419e-03,  2.23041220e-03,\n",
      "        -2.59173523e-04,  1.34173784e-02,  4.83284038e-03,\n",
      "        -2.26395195e-02, -5.76798904e-03,  7.91428256e-03,\n",
      "         5.71924352e-03, -2.22032309e-03],\n",
      "       [ 1.08350517e-02,  8.25383469e-03, -3.87065958e-03,\n",
      "         3.05093903e-04,  1.17212923e-02, -7.51034065e-03,\n",
      "        -1.02012340e-03, -2.61492554e-03, -8.30911428e-03,\n",
      "        -3.80432307e-03, -2.23705970e-02,  2.19381477e-03,\n",
      "         2.18620152e-03,  1.28826572e-02, -3.09454403e-04,\n",
      "        -3.08134692e-03, -9.52638441e-03,  6.03105498e-03,\n",
      "         1.75981068e-02, -7.32580094e-03],\n",
      "       [ 5.92859873e-03, -1.12850180e-02,  1.68595210e-02,\n",
      "         7.82664020e-04, -2.57490493e-03, -1.68299644e-03,\n",
      "        -7.42983463e-03, -7.23523605e-03,  4.52796216e-04,\n",
      "        -5.69113107e-03,  1.73847118e-02, -1.52336176e-02,\n",
      "         3.36668249e-04, -1.66079308e-02, -5.67671539e-03,\n",
      "         6.80653098e-03,  1.43137973e-02,  8.59236765e-03,\n",
      "        -2.15210169e-03, -5.56972804e-03],\n",
      "       [-7.49275029e-03,  1.76860002e-02, -2.60516447e-02,\n",
      "         6.91981069e-03, -1.40222496e-02,  1.50809492e-03,\n",
      "        -1.16799619e-02,  1.18084251e-02,  2.11592074e-02,\n",
      "        -7.91456507e-03, -6.50652385e-03, -3.47035629e-03,\n",
      "         9.75101411e-05, -1.28724060e-02,  1.98704897e-03,\n",
      "        -3.42995751e-03,  6.60664141e-03,  3.45743426e-03,\n",
      "        -6.57882204e-03, -1.76562298e-02],\n",
      "       [-1.08923746e-02,  4.33584604e-03,  7.96994867e-03,\n",
      "         9.07592875e-03,  6.93928572e-03,  1.18549019e-02,\n",
      "        -1.25620781e-03, -1.27856801e-02,  1.49475232e-02,\n",
      "         2.24418461e-03, -1.04445443e-02,  2.26266925e-03,\n",
      "         7.84455881e-04, -1.64225705e-02,  7.46050333e-03,\n",
      "        -1.57298436e-02, -2.90022875e-03, -1.35819376e-02,\n",
      "         5.37919939e-03, -1.69885624e-02],\n",
      "       [ 9.35288150e-03, -1.04921418e-02, -1.81142930e-02,\n",
      "         2.65914669e-03,  4.11158794e-03, -1.46543520e-02,\n",
      "        -3.04709896e-03, -2.73997979e-02,  8.57870315e-03,\n",
      "        -6.31994639e-03,  3.58089637e-04, -5.84616034e-03,\n",
      "         4.34507708e-03, -8.25102791e-04,  4.29359380e-03,\n",
      "         1.72444608e-02,  1.48437841e-02, -6.99201601e-04,\n",
      "         4.15887005e-03, -4.95530142e-03]]), 'b2': array([[ 1.93417774e-04],\n",
      "       [ 4.97831288e-05],\n",
      "       [-2.48405277e-04],\n",
      "       [-1.81302140e-04],\n",
      "       [-2.16251596e-04],\n",
      "       [ 0.00000000e+00],\n",
      "       [ 1.71210542e-04]]), 'W3': array([[ 0.0052681 ,  0.00985881,  0.02292724, -0.02834784, -0.01686339,\n",
      "        -0.0046076 , -0.00431213],\n",
      "       [-0.01537028,  0.00739181, -0.00145549, -0.00364995,  0.00619993,\n",
      "         0.0198597 , -0.0091469 ],\n",
      "       [ 0.0043815 ,  0.00769783,  0.00024627,  0.00698719, -0.00174272,\n",
      "         0.02053139, -0.00026627],\n",
      "       [ 0.01399982,  0.01440657,  0.02593699, -0.00150495,  0.01057541,\n",
      "         0.00013288, -0.00037583],\n",
      "       [-0.02559864, -0.00827045,  0.01389408, -0.004978  , -0.01040001,\n",
      "         0.00515843, -0.01557394]]), 'b3': array([[ 0.00589892],\n",
      "       [ 0.00034287],\n",
      "       [-0.00025161],\n",
      "       [-0.00054138],\n",
      "       [ 0.        ]]), 'W4': array([[-0.0104018 , -0.00131717,  0.01122832,  0.0200826 ,  0.0004181 ]]), 'b4': array([[-0.64325096]])}\n"
     ]
    }
   ],
   "source": [
    "print(f'the best parameters found by neural network:\\n {best_parameters}')"
   ]
  },
  {
   "cell_type": "code",
   "execution_count": 21,
   "id": "b6b3ccce-deb2-4396-85de-552b258e43c8",
   "metadata": {},
   "outputs": [
    {
     "name": "stdout",
     "output_type": "stream",
     "text": [
      "Acc 0.6555023923444976\n"
     ]
    }
   ],
   "source": [
    "# Acc\n",
    "train_p = predict(training_data, training_label, best_parameters)"
   ]
  },
  {
   "cell_type": "code",
   "execution_count": 22,
   "id": "6a202db8-f693-4bbd-88d0-8355b67147a7",
   "metadata": {},
   "outputs": [
    {
     "name": "stdout",
     "output_type": "stream",
     "text": [
      "Acc 0.3400000000000001\n"
     ]
    }
   ],
   "source": [
    "# testing\n",
    "test_p = predict(test_data, test_label, best_parameters)"
   ]
  },
  {
   "cell_type": "code",
   "execution_count": null,
   "id": "a1259437-c36d-4332-ba34-c42626f5eab6",
   "metadata": {},
   "outputs": [],
   "source": []
  }
 ],
 "metadata": {
  "kernelspec": {
   "display_name": "Python 3 (ipykernel)",
   "language": "python",
   "name": "python3"
  },
  "language_info": {
   "codemirror_mode": {
    "name": "ipython",
    "version": 3
   },
   "file_extension": ".py",
   "mimetype": "text/x-python",
   "name": "python",
   "nbconvert_exporter": "python",
   "pygments_lexer": "ipython3",
   "version": "3.9.12"
  }
 },
 "nbformat": 4,
 "nbformat_minor": 5
}
