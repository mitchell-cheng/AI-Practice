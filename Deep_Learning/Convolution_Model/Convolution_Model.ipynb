{
 "cells": [
  {
   "cell_type": "markdown",
   "id": "312d7900-bfa6-4f5a-bd51-c0b671cd54dd",
   "metadata": {},
   "source": [
    "<h1>Convolutional Neural Network</h1>"
   ]
  },
  {
   "cell_type": "markdown",
   "id": "e33fa831-9864-4598-8c3f-32528eefacce",
   "metadata": {},
   "source": [
    "<h2>Import Dependencies</h2>"
   ]
  },
  {
   "cell_type": "code",
   "execution_count": 1,
   "id": "6c35eddc-bb20-4f18-a5d6-ed487a978e52",
   "metadata": {},
   "outputs": [],
   "source": [
    "import numpy as np\n",
    "import h5py \n",
    "import matplotlib.pyplot as plt"
   ]
  },
  {
   "cell_type": "code",
   "execution_count": 2,
   "id": "51244703-2625-429e-bb5f-b74518fe5fa2",
   "metadata": {},
   "outputs": [],
   "source": [
    "np.random.seed(1)"
   ]
  },
  {
   "cell_type": "markdown",
   "id": "55f70e75-bd0b-4223-a421-b8f987110e44",
   "metadata": {},
   "source": [
    "<h2>Zero-Padding</h2>"
   ]
  },
  {
   "cell_type": "code",
   "execution_count": 3,
   "id": "d726f26c-4d41-4dd5-ae1f-99546daf117d",
   "metadata": {},
   "outputs": [],
   "source": [
    "def zero_pad(X, pad):\n",
    "    '''\n",
    "    using zeros to pad input image\n",
    "    \n",
    "    Args:\n",
    "    X -- input image. shape: (m, n_H, n_W, n_C)\n",
    "    pad -- padding size\n",
    "    \n",
    "    Returns:\n",
    "    X_pad -- padded image. shape: (m, n_H + 2 * pad, n_W + 2 * pad, n_C)\n",
    "    '''\n",
    "    \n",
    "    X_pad = np.pad(X, ((0,0), (pad,pad), (pad,pad), (0,0)), mode='constant')\n",
    "    return X_pad"
   ]
  },
  {
   "cell_type": "code",
   "execution_count": 4,
   "id": "8ff0b846-6d7e-4331-95c9-3c55edfe32fd",
   "metadata": {},
   "outputs": [
    {
     "name": "stdout",
     "output_type": "stream",
     "text": [
      "x.shape =\n",
      " (4, 3, 3, 2)\n",
      "x_pad.shape =\n",
      " (4, 9, 9, 2)\n",
      "x[1,1] =\n",
      " [[ 0.90085595 -0.68372786]\n",
      " [-0.12289023 -0.93576943]\n",
      " [-0.26788808  0.53035547]]\n",
      "x_pad[1,1] =\n",
      " [[0. 0.]\n",
      " [0. 0.]\n",
      " [0. 0.]\n",
      " [0. 0.]\n",
      " [0. 0.]\n",
      " [0. 0.]\n",
      " [0. 0.]\n",
      " [0. 0.]\n",
      " [0. 0.]]\n"
     ]
    },
    {
     "data": {
      "text/plain": [
       "<matplotlib.image.AxesImage at 0x7f8e88bf8d60>"
      ]
     },
     "execution_count": 4,
     "metadata": {},
     "output_type": "execute_result"
    },
    {
     "data": {
      "image/png": "[encoded data removed]",
      "text/plain": [
       "<Figure size 640x480 with 2 Axes>"
      ]
     },
     "metadata": {},
     "output_type": "display_data"
    }
   ],
   "source": [
    "# test\n",
    "\n",
    "np.random.seed(1)\n",
    "x = np.random.randn(4, 3, 3, 2)\n",
    "x_pad = zero_pad(x, 3)\n",
    "print (\"x.shape =\\n\", x.shape)\n",
    "print (\"x_pad.shape =\\n\", x_pad.shape)\n",
    "print (\"x[1,1] =\\n\", x[1, 1])\n",
    "print (\"x_pad[1,1] =\\n\", x_pad[1, 1])\n",
    "\n",
    "fig, axarr = plt.subplots(1, 2)\n",
    "axarr[0].set_title('x')\n",
    "axarr[0].imshow(x[0, :, :, 0])\n",
    "axarr[1].set_title('x_pad')\n",
    "axarr[1].imshow(x_pad[0, :, :, 0])"
   ]
  },
  {
   "cell_type": "markdown",
   "id": "5d8b2091-293c-47e0-99bf-33eb1e3a94df",
   "metadata": {},
   "source": [
    "<h2>Single Step Convolution</h2>"
   ]
  },
  {
   "cell_type": "code",
   "execution_count": 5,
   "id": "312fee51-0e98-4e2e-89ee-13b88f233143",
   "metadata": {},
   "outputs": [],
   "source": [
    "def conv_single_step(a_slice_prev, W, b):\n",
    "    '''\n",
    "    Apple one filter to image\n",
    "    \n",
    "    Args:\n",
    "    a_slice_prev -- input data. shape: (f, f, n_C_prev)\n",
    "    W -- weights. shape: (f, f, n_C_prev)\n",
    "    b -- bias. shape: (1, 1, 1)\n",
    "    \n",
    "    Returns:\n",
    "    Z -- convolvedata\n",
    "    '''\n",
    "    \n",
    "    Z = np.multiply(a_slice_prev, W)\n",
    "    s = np.sum(Z)\n",
    "    Z = s + float(b)\n",
    "    \n",
    "    return Z    "
   ]
  },
  {
   "cell_type": "code",
   "execution_count": 6,
   "id": "0810db91-a7bf-41d1-a88c-0f25b5810f97",
   "metadata": {},
   "outputs": [
    {
     "name": "stdout",
     "output_type": "stream",
     "text": [
      "Z = -6.999089450680221\n"
     ]
    }
   ],
   "source": [
    "# test\n",
    "np.random.seed(1)\n",
    "a_slice_prev = np.random.randn(4, 4, 3)\n",
    "W = np.random.randn(4, 4, 3)\n",
    "b = np.random.randn(1, 1, 1)\n",
    "\n",
    "Z = conv_single_step(a_slice_prev, W, b)\n",
    "print(\"Z =\", Z)"
   ]
  },
  {
   "cell_type": "markdown",
   "id": "96bbaa7e-3657-409e-8793-5c0101be68d4",
   "metadata": {},
   "source": [
    "<h2>Convolution Forward Propagation</h2>"
   ]
  },
  {
   "cell_type": "code",
   "execution_count": 7,
   "id": "a49ecca7-1609-4a02-a6b3-e93b7359641e",
   "metadata": {},
   "outputs": [],
   "source": [
    "def conv_forward(A_prev, W, b, hyperparameters):\n",
    "    '''\n",
    "    Convolutional forward propgation\n",
    "    \n",
    "    Args:\n",
    "    A_prev -- the previous input. shape: (m, n_H_prev, n_W_prev, n_C_prev)\n",
    "    W - weights. shape: (f, f, n_C_prev, n_C)\n",
    "    b -- bias. (1, 1, 1, n_C)\n",
    "    hyperparameters -- dictionary contains 'stride' and 'pad'\n",
    "    \n",
    "    Returns:\n",
    "    Z -- convolvo output. shape: (m, n_H, n_W, n_C)\n",
    "    cache -- intermediate variables for convolve backprop\n",
    "    '''\n",
    "    \n",
    "    (m, n_H_prev, n_W_prev, n_C_prev) = A_prev.shape\n",
    "    (f, f, n_C_prev, n_C) = W.shape\n",
    "    stride = hyperparameters['stride']\n",
    "    pad = hyperparameters['pad']\n",
    "    \n",
    "    n_H = int((n_H_prev - f + 2 * pad) / stride) + 1\n",
    "    n_W = int((n_W_prev - f + 2 * pad) / stride) + 1\n",
    "    n_C = n_C\n",
    "    Z = np.zeros((m, n_H, n_W, n_C))\n",
    "    \n",
    "    A_prev_pad = zero_pad(A_prev, pad)\n",
    "    for i in range(m):\n",
    "        a_prev_pad = A_prev_pad[i]\n",
    "        for h in range(n_H):\n",
    "            for w in range(n_W):\n",
    "                for c in range(n_C):\n",
    "                    vert_start = stride * h\n",
    "                    vert_end = vert_start + f\n",
    "                    horiz_start = stride * w\n",
    "                    horiz_end = horiz_start + f\n",
    "                    a_slice_prev = a_prev_pad[vert_start:vert_end,horiz_start:horiz_end,:]\n",
    "                    Z[i,h,w,c] = conv_single_step(a_slice_prev, W[:,:,:,c], b[:,:,:,c])\n",
    "                    \n",
    "    cache = (A_prev, W, b, hyperparameters)\n",
    "    \n",
    "    return Z, cache"
   ]
  },
  {
   "cell_type": "code",
   "execution_count": 8,
   "id": "8f241b50-3abc-437f-a500-2af9d545a368",
   "metadata": {},
   "outputs": [
    {
     "name": "stdout",
     "output_type": "stream",
     "text": [
      "shape of Z: (2, 3, 4, 8)\n",
      "Z's mean =\n",
      " 0.5511276474566768\n",
      "Z[0,2,1] =\n",
      " [-2.17796037  8.07171329 -0.5772704   3.36286738  4.48113645 -2.89198428\n",
      " 10.99288867  3.03171932]\n",
      "cache_conv[0][1][2][3] =\n",
      " [-1.1191154   1.9560789  -0.3264995  -1.34267579]\n"
     ]
    }
   ],
   "source": [
    "# test\n",
    "\n",
    "np.random.seed(1)\n",
    "A_prev = np.random.randn(2, 5, 7, 4)\n",
    "W = np.random.randn(3, 3, 4, 8)\n",
    "b = np.random.randn(1, 1, 1, 8)\n",
    "hparameters = {\"pad\" : 1,\n",
    "               \"stride\": 2}\n",
    "\n",
    "Z, cache_conv = conv_forward(A_prev, W, b, hparameters)\n",
    "z_mean = np.mean(Z)\n",
    "z_0_2_1 = Z[0, 2, 1]\n",
    "cache_0_1_2_3 = cache_conv[0][1][2][3]\n",
    "print(f'shape of Z: {Z.shape}')\n",
    "print(\"Z's mean =\\n\", z_mean)\n",
    "print(\"Z[0,2,1] =\\n\", z_0_2_1)\n",
    "print(\"cache_conv[0][1][2][3] =\\n\", cache_0_1_2_3)"
   ]
  },
  {
   "cell_type": "markdown",
   "id": "1d60e7c0-7971-444b-bb15-0f691645450a",
   "metadata": {},
   "source": [
    "<h2>Pooling</h2>"
   ]
  },
  {
   "cell_type": "markdown",
   "id": "fe0384f9-b3c0-4f9e-a2ac-8162a122e0f9",
   "metadata": {},
   "source": [
    "<h3>Forward Pooling</h3>"
   ]
  },
  {
   "cell_type": "code",
   "execution_count": 9,
   "id": "3162fb56-3533-47ea-9ee1-caf7911d5b56",
   "metadata": {},
   "outputs": [],
   "source": [
    "def pool_forward(A_prev, hyperparameters, mode='max'):\n",
    "    '''\n",
    "    forward prop pooling\n",
    "    \n",
    "    Args:\n",
    "    A_prev -- previous layer input\n",
    "    hyperparameter -- padding, stride and pooling size\n",
    "    mode -- pooling type, accept: max or avg\n",
    "    '''\n",
    "    \n",
    "    (m, n_H_prev, n_W_prev, n_C_prev) = A_prev.shape\n",
    "    f = hyperparameters['f']\n",
    "    stride = hyperparameters['stride']\n",
    "    n_H = int(1 + (n_H_prev - f) / stride)\n",
    "    n_W = int(1 + (n_W_prev - f) / stride)\n",
    "    n_C = n_C_prev\n",
    "    \n",
    "    A = np.zeros((m, n_H, n_W, n_C))\n",
    "   \n",
    "    for i in range(m):\n",
    "        a_prev_slice = A_prev[i]\n",
    "        for h in range(n_H):\n",
    "            for w in range(n_W):\n",
    "                for c in range(n_C):\n",
    "                    vert_start = h * stride\n",
    "                    vert_end = vert_start + f\n",
    "                    horiz_start = w * stride\n",
    "                    horiz_end = horiz_start + f\n",
    "                    if mode == 'max':\n",
    "                        A[i,h,w,c] = np.max(a_prev_slice[vert_start:vert_end,horiz_start:horiz_end,c])\n",
    "                    elif mode == 'avg':\n",
    "                        A[i,h,w,c] = np.mean(a_prev_slice[vert_start:vert_end,horiz_start:horiz_end,c])\n",
    "                        \n",
    "    cache = (A_prev, hyperparameters)\n",
    "    \n",
    "    return A, cache"
   ]
  },
  {
   "cell_type": "code",
   "execution_count": 10,
   "id": "477a38a8-f796-4ab8-84b1-5e649ef9f063",
   "metadata": {},
   "outputs": [
    {
     "name": "stdout",
     "output_type": "stream",
     "text": [
      "mode = max\n",
      "A.shape = (2, 3, 3, 3)\n",
      "A[1, 1] =\n",
      " [[1.96710175 0.84616065 1.27375593]\n",
      " [1.96710175 0.84616065 1.23616403]\n",
      " [1.62765075 1.12141771 1.2245077 ]]\n",
      "mode = average\n",
      "A.shape = (2, 3, 3, 3)\n",
      "A[1, 1] =\n",
      " [[ 0.44497696 -0.00261695 -0.31040307]\n",
      " [ 0.50811474 -0.23493734 -0.23961183]\n",
      " [ 0.11872677  0.17255229 -0.22112197]]\n"
     ]
    }
   ],
   "source": [
    "# Case 1: stride of 1\n",
    "np.random.seed(1)\n",
    "A_prev = np.random.randn(2, 5, 5, 3)\n",
    "hparameters = {\"stride\" : 1, \"f\": 3}\n",
    "\n",
    "A, cache = pool_forward(A_prev, hparameters, mode = \"max\")\n",
    "print(\"mode = max\")\n",
    "print(\"A.shape = \" + str(A.shape))\n",
    "print(\"A[1, 1] =\\n\", A[1, 1])\n",
    "A, cache = pool_forward(A_prev, hparameters, mode = \"avg\")\n",
    "print(\"mode = average\")\n",
    "print(\"A.shape = \" + str(A.shape))\n",
    "print(\"A[1, 1] =\\n\", A[1, 1])"
   ]
  },
  {
   "cell_type": "code",
   "execution_count": 11,
   "id": "520a9653-e1f7-459e-8064-9fffd2e9cf3a",
   "metadata": {},
   "outputs": [
    {
     "name": "stdout",
     "output_type": "stream",
     "text": [
      "mode = max\n",
      "A.shape = (2, 2, 2, 3)\n",
      "A[0] =\n",
      " [[[1.74481176 0.90159072 1.65980218]\n",
      "  [1.74481176 1.6924546  1.65980218]]\n",
      "\n",
      " [[1.13162939 1.51981682 2.18557541]\n",
      "  [1.13162939 1.6924546  2.18557541]]]\n",
      "\n",
      "mode = average\n",
      "A.shape = (2, 2, 2, 3)\n",
      "A[1] =\n",
      " [[[-0.17313416  0.32377198 -0.34317572]\n",
      "  [ 0.02030094  0.14141479 -0.01231585]]\n",
      "\n",
      " [[ 0.42944926  0.08446996 -0.27290905]\n",
      "  [ 0.15077452  0.28911175  0.00123239]]]\n"
     ]
    }
   ],
   "source": [
    "# Case 2: stride of 2\n",
    "np.random.seed(1)\n",
    "A_prev = np.random.randn(2, 5, 5, 3)\n",
    "hparameters = {\"stride\" : 2, \"f\": 3}\n",
    "\n",
    "A, cache = pool_forward(A_prev, hparameters)\n",
    "print(\"mode = max\")\n",
    "print(\"A.shape = \" + str(A.shape))\n",
    "print(\"A[0] =\\n\", A[0])\n",
    "print()\n",
    "\n",
    "A, cache = pool_forward(A_prev, hparameters, mode = \"avg\")\n",
    "print(\"mode = average\")\n",
    "print(\"A.shape = \" + str(A.shape))\n",
    "print(\"A[1] =\\n\", A[1])"
   ]
  },
  {
   "cell_type": "markdown",
   "id": "fad7d7c3-fe14-46b2-b592-345fad4eee89",
   "metadata": {},
   "source": [
    "<h2>Convolution Backward Propagation</h2>"
   ]
  },
  {
   "cell_type": "code",
   "execution_count": 31,
   "id": "d0e22a7c-cb95-4b75-a6dc-4d58e769437c",
   "metadata": {},
   "outputs": [],
   "source": [
    "def conv_backward(dZ, cache):\n",
    "    '''\n",
    "    perform convolution backward propgation\n",
    "    \n",
    "    Args:\n",
    "    dZ -- dloss to dZ. shape: (m, n_H, n_W, n_C)\n",
    "    cache -- intermediate variables for backward propagation.\n",
    "    \n",
    "    Returns:\n",
    "    dA_prev -- gradient of input \n",
    "    dW -- gradient of filter weights\n",
    "    db -- gradient of filter bias\n",
    "    '''\n",
    "    \n",
    "    (A_prev, W, b, hyperparameters) = cache\n",
    "    (m, n_H_prev, n_W_prev, n_C_prev) = A_prev.shape\n",
    "    (f, f, n_C_prev, n_C) = W.shape\n",
    "    \n",
    "    stride = hyperparameters['stride']\n",
    "    pad = hyperparameters['pad']\n",
    "    \n",
    "    (m, n_H, n_W, n_C) = dZ.shape\n",
    "    \n",
    "    dA_prev = np.zeros(A_prev.shape)\n",
    "    dW = np.zeros(W.shape)\n",
    "    db = np.zeros(b.shape)\n",
    "    \n",
    "    A_prev_pad = zero_pad(A_prev, pad)\n",
    "    dA_prev_pad = zero_pad(dA_prev, pad)\n",
    "    \n",
    "    for i in range(m):\n",
    "        a_prev_pad = A_prev_pad[i]\n",
    "        da_prev_pad = dA_prev_pad[i]\n",
    "        for h in range(n_H):\n",
    "            for w in range(n_W):\n",
    "                for c in range(n_C):\n",
    "                    vert_start = stride * h\n",
    "                    vert_end = vert_start + f\n",
    "                    horiz_start = stride * w\n",
    "                    horiz_end = horiz_start + f\n",
    "                    a_slice = a_prev_pad[vert_start:vert_end, horiz_start:horiz_end, :]\n",
    "                    da_prev_pad[vert_start:vert_end,horiz_start:horiz_end,:] += W[:,:,:,c] * dZ[i,h,w,c]\n",
    "                    dW[:,:,:,c] += a_slice * dZ[i,h,w,c]\n",
    "                    db[:,:,:,c] += dZ[i,h,w,c]\n",
    "                    \n",
    "        dA_prev[i] = da_prev_pad[pad:-pad,pad:-pad,:]\n",
    "                    \n",
    "        \n",
    "    return dA_prev, dW, db"
   ]
  },
  {
   "cell_type": "code",
   "execution_count": 32,
   "id": "45ae1a34-715b-498f-ae62-6f02e08eba4b",
   "metadata": {},
   "outputs": [
    {
     "name": "stdout",
     "output_type": "stream",
     "text": [
      "dA_mean = 1.4524377775388075\n",
      "dW_mean = 1.7269914583139097\n",
      "db_mean = 7.839232564616838\n"
     ]
    }
   ],
   "source": [
    "np.random.seed(1)\n",
    "A_prev = np.random.randn(10, 4, 4, 3)\n",
    "W = np.random.randn(2, 2, 3, 8)\n",
    "b = np.random.randn(1, 1, 1, 8)\n",
    "hparameters = {\"pad\" : 2,\n",
    "               \"stride\": 2}\n",
    "Z, cache_conv = conv_forward(A_prev, W, b, hparameters)\n",
    "\n",
    "# Test conv_backward\n",
    "dA, dW, db = conv_backward(Z, cache_conv)\n",
    "\n",
    "print(\"dA_mean =\", np.mean(dA))\n",
    "print(\"dW_mean =\", np.mean(dW))\n",
    "print(\"db_mean =\", np.mean(db))"
   ]
  },
  {
   "cell_type": "markdown",
   "id": "ba6ac26f-a2ad-4cbf-b165-38bf3ae5e824",
   "metadata": {},
   "source": [
    "<h2>Pooling Backward Propagation</h2>"
   ]
  },
  {
   "cell_type": "markdown",
   "id": "b481c661-d354-499c-8d8a-3bda7494d613",
   "metadata": {},
   "source": [
    "<h3>Max Pooling Backward Propagation</h3>"
   ]
  },
  {
   "cell_type": "code",
   "execution_count": 14,
   "id": "30173af2-fdbf-4a40-a994-46a53c17ce4c",
   "metadata": {},
   "outputs": [],
   "source": [
    "def create_mask_from_window(x):\n",
    "    '''\n",
    "    create mask for max pooling\n",
    "    \n",
    "    Args:\n",
    "    x -- input\n",
    "    \n",
    "    Returns:\n",
    "    masked_x -- input after masked\n",
    "    '''\n",
    "    masked_x = (x == np.max(x))\n",
    "    return masked_x"
   ]
  },
  {
   "cell_type": "code",
   "execution_count": 15,
   "id": "e2de4f1d-018f-4283-8102-b7416e834d69",
   "metadata": {},
   "outputs": [
    {
     "name": "stdout",
     "output_type": "stream",
     "text": [
      "x =  [[ 1.62434536 -0.61175641 -0.52817175]\n",
      " [-1.07296862  0.86540763 -2.3015387 ]]\n",
      "mask =  [[ True False False]\n",
      " [False False False]]\n"
     ]
    }
   ],
   "source": [
    "# test\n",
    "\n",
    "np.random.seed(1)\n",
    "x = np.random.randn(2, 3)\n",
    "mask = create_mask_from_window(x)\n",
    "print('x = ', x)\n",
    "print(\"mask = \", mask)\n",
    "\n",
    "x = np.array([[-1, 2, 3],\n",
    "              [2, -3, 2],\n",
    "              [1, 5, -2]])\n",
    "\n",
    "y = np.array([[False, False, False],\n",
    "     [False, False, False],\n",
    "     [False, True, False]])\n",
    "mask = create_mask_from_window(x)\n"
   ]
  },
  {
   "cell_type": "markdown",
   "id": "0b7a346d-5611-4c80-a1df-ebab8e0e6cb2",
   "metadata": {},
   "source": [
    "<h3>Average Pooling Backward Propagation</h3>"
   ]
  },
  {
   "cell_type": "code",
   "execution_count": 16,
   "id": "2cce01b8-6fe8-4bf9-831e-9ca46580927b",
   "metadata": {},
   "outputs": [],
   "source": [
    "def distribute_value(dz, shape):\n",
    "    '''\n",
    "    distributes the input value to the matrix\n",
    "    \n",
    "    Args:\n",
    "    dz -- input\n",
    "    shape - matrix\n",
    "    \n",
    "    Returns:\n",
    "    a -- distributed value matrix\n",
    "    '''\n",
    "    \n",
    "    a = np.full(shape, dz / (shape[0] * shape[1]))\n",
    "    return a"
   ]
  },
  {
   "cell_type": "code",
   "execution_count": 17,
   "id": "83d1e898-ed6a-44e2-b2c9-c3e818c20bb1",
   "metadata": {},
   "outputs": [
    {
     "name": "stdout",
     "output_type": "stream",
     "text": [
      "distributed value = [[0.5 0.5]\n",
      " [0.5 0.5]]\n"
     ]
    }
   ],
   "source": [
    "# test\n",
    "\n",
    "a = distribute_value(2, (2, 2))\n",
    "print('distributed value =', a)"
   ]
  },
  {
   "cell_type": "code",
   "execution_count": 18,
   "id": "0c8d3469-40cc-4f09-892c-c83619c466d9",
   "metadata": {},
   "outputs": [],
   "source": [
    "def pool_backward(dA, cache, mode = 'max'):\n",
    "    '''\n",
    "    perform pooling backward propagation\n",
    "    \n",
    "    Args:\n",
    "    dA -- gradient of pooling output\n",
    "    cache -- intermediate variables for computing\n",
    "    mode -- pooling type, accpet 'max' or 'avg'\n",
    "    \n",
    "    Returns:\n",
    "    dA_prev -- gradient of the output from previous layer\n",
    "    '''\n",
    "    \n",
    "    (A_prev, hyperparameters) = cache\n",
    "    stride = hyperparameters['stride']\n",
    "    f = hyperparameters['f']\n",
    "    m, n_H_prev, n_W_prev, n_C_prev = A_prev.shape\n",
    "    m, n_H, n_W, n_C = dA.shape\n",
    "    \n",
    "    dA_prev = np.zeros(A_prev.shape)\n",
    "    \n",
    "    for i in range(m):\n",
    "        a_prev = A_prev[i]\n",
    "        for h in range(n_H):\n",
    "            for w in range(n_W):\n",
    "                for c in range(n_C):\n",
    "                    vert_start = stride * h\n",
    "                    vert_end = vert_start + f\n",
    "                    horiz_start = stride * w\n",
    "                    horiz_end = horiz_start + f\n",
    "                    if mode == 'max':\n",
    "                        mask = a_prev[vert_start:vert_end,horiz_start:horiz_end,c] = create_mask_from_window(a_prev[vert_start:vert_end,horiz_start:horiz_end,c])\n",
    "                        dA_prev[i,vert_start:vert_end,horiz_start:horiz_end,c] += np.multiply(dA[i,h,w,c], mask)\n",
    "                    elif mode == 'avg':\n",
    "                        dA_prev[i,vert_start:vert_end,horiz_start:horiz_end,c] += distribute_value(dA[i,h,w,c], (f,f))\n",
    "    \n",
    "    return dA_prev"
   ]
  },
  {
   "cell_type": "code",
   "execution_count": 20,
   "id": "5c845691-7f18-4fd7-940a-f9bfcb0cbffd",
   "metadata": {},
   "outputs": [
    {
     "name": "stdout",
     "output_type": "stream",
     "text": [
      "(5, 4, 2, 2)\n",
      "(5, 5, 3, 2)\n",
      "mode = max\n",
      "mean of dA =  0.14571390272918056\n",
      "dA_prev1[1,1] =  [[ 0.          0.        ]\n",
      " [ 5.05844394 -1.68282702]\n",
      " [ 0.          0.        ]]\n",
      "\n",
      "mode = average\n",
      "mean of dA =  0.14571390272918056\n",
      "dA_prev2[1,1] =  [[ 0.08485462  0.2787552 ]\n",
      " [ 1.26461098 -0.25749373]\n",
      " [ 1.17975636 -0.53624893]]\n"
     ]
    }
   ],
   "source": [
    "# test\n",
    "\n",
    "np.random.seed(1)\n",
    "A_prev = np.random.randn(5, 5, 3, 2)\n",
    "hparameters = {\"stride\" : 1, \"f\": 2}\n",
    "A, cache = pool_forward(A_prev, hparameters)\n",
    "print(A.shape)\n",
    "print(cache[0].shape)\n",
    "dA = np.random.randn(5, 4, 2, 2)\n",
    "\n",
    "dA_prev1 = pool_backward(dA, cache, mode = \"max\")\n",
    "print(\"mode = max\")\n",
    "print('mean of dA = ', np.mean(dA))\n",
    "print('dA_prev1[1,1] = ', dA_prev1[1, 1])  \n",
    "print()\n",
    "dA_prev2 = pool_backward(dA, cache, mode = \"avg\")\n",
    "print(\"mode = average\")\n",
    "print('mean of dA = ', np.mean(dA))\n",
    "print('dA_prev2[1,1] = ', dA_prev2[1, 1]) "
   ]
  },
  {
   "cell_type": "code",
   "execution_count": null,
   "id": "8de60656-44b6-4fde-8c57-193fdc475ede",
   "metadata": {},
   "outputs": [],
   "source": []
  }
 ],
 "metadata": {
  "kernelspec": {
   "display_name": "Python 3 (ipykernel)",
   "language": "python",
   "name": "python3"
  },
  "language_info": {
   "codemirror_mode": {
    "name": "ipython",
    "version": 3
   },
   "file_extension": ".py",
   "mimetype": "text/x-python",
   "name": "python",
   "nbconvert_exporter": "python",
   "pygments_lexer": "ipython3",
   "version": "3.9.12"
  }
 },
 "nbformat": 4,
 "nbformat_minor": 5
}
