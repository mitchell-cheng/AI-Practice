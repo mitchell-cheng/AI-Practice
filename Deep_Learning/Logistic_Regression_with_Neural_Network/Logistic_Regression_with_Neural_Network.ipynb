{
 "cells": [
  {
   "cell_type": "markdown",
   "id": "e89b2bd4-5813-4e13-8e77-cb906ad9d92b",
   "metadata": {},
   "source": [
    "<b>Import dependencies</b>"
   ]
  },
  {
   "cell_type": "code",
   "execution_count": 1,
   "id": "fb8c92ab-7143-44e0-a509-15a7dc6bc973",
   "metadata": {},
   "outputs": [],
   "source": [
    "import numpy as np\n",
    "import copy \n",
    "import matplotlib.pyplot as plt\n",
    "import h5py\n",
    "import scipy\n",
    "from PIL import Image\n",
    "from scipy import ndimage\n",
    "from data_processing import load_dataset"
   ]
  },
  {
   "cell_type": "markdown",
   "id": "15905611-edf7-46a2-b859-e6702859df3b",
   "metadata": {},
   "source": [
    "<b>Get datasets</b>"
   ]
  },
  {
   "cell_type": "code",
   "execution_count": 2,
   "id": "5ca4ad59-1264-430a-88ec-166540e8081b",
   "metadata": {},
   "outputs": [],
   "source": [
    "train_set_x_orig, train_set_y_orig, test_set_x_orig, test_set_y_orig, classes = load_dataset()"
   ]
  },
  {
   "cell_type": "code",
   "execution_count": 4,
   "id": "efd1c621-21e5-4258-8f11-54a59ec21947",
   "metadata": {},
   "outputs": [
    {
     "name": "stdout",
     "output_type": "stream",
     "text": [
      "training data shape: (209, 64, 64, 3)\n",
      "training label shape: (1, 209)\n",
      "test data shape: (50, 64, 64, 3)\n",
      "test label shape: (1, 50)\n",
      "training data in total: 209\n",
      "test data in total: 50\n",
      "total classes: [b'non-cat' b'cat']\n"
     ]
    }
   ],
   "source": [
    "# overview the dataset\n",
    "\n",
    "print(f'training data shape: {train_set_x_orig.shape}')\n",
    "print(f'training label shape: {train_set_y_orig.shape}')\n",
    "print(f'test data shape: {test_set_x_orig.shape}')\n",
    "print(f'test label shape: {test_set_y_orig.shape}')\n",
    "print(f'training data in total: {len(train_set_x_orig)}')\n",
    "print(f'test data in total: {len(test_set_x_orig)}')\n",
    "print(f'total classes: {classes}')"
   ]
  },
  {
   "cell_type": "code",
   "execution_count": 9,
   "id": "c2fe6333-4b36-418b-b916-6dc5c5a4c50a",
   "metadata": {},
   "outputs": [
    {
     "name": "stdout",
     "output_type": "stream",
     "text": [
      "clearly, its b'non-cat'\n"
     ]
    },
    {
     "data": {
      "image/png": "[encoded data removed]",
      "text/plain": [
       "<Figure size 640x480 with 1 Axes>"
      ]
     },
     "metadata": {},
     "output_type": "display_data"
    }
   ],
   "source": [
    "# check one example\n",
    "\n",
    "index = 0\n",
    "plt.imshow(train_set_x_orig[index])\n",
    "print(f'clearly, its {classes[index]}')"
   ]
  },
  {
   "cell_type": "code",
   "execution_count": 16,
   "id": "c1970e1f-605c-43e5-88e6-c29ba1cc2536",
   "metadata": {},
   "outputs": [],
   "source": [
    "# reshape the image \n",
    "\n",
    "train_set_x = train_set_x_orig.reshape(train_set_x_orig.shape[0], -1).T\n",
    "train_set_y = train_set_y_orig.reshape(train_set_y_orig.shape[0], -1)\n",
    "test_set_x = test_set_x_orig.reshape(test_set_x_orig.shape[0], -1).T\n",
    "test_set_y = test_set_y_orig.reshape(test_set_y_orig.shape[0], -1)"
   ]
  },
  {
   "cell_type": "code",
   "execution_count": 18,
   "id": "f813b8cc-9db5-45a5-a7b7-d0523bd7bfe4",
   "metadata": {},
   "outputs": [
    {
     "name": "stdout",
     "output_type": "stream",
     "text": [
      "training data shape: (12288, 209)\n",
      "training label shape: (1, 209)\n",
      "test data shape: (12288, 50)\n",
      "test label shape: (1, 50)\n"
     ]
    }
   ],
   "source": [
    "print(f'training data shape: {train_set_x.shape}')\n",
    "print(f'training label shape: {train_set_y.shape}')\n",
    "print(f'test data shape: {test_set_x.shape}')\n",
    "print(f'test label shape: {test_set_y.shape}')"
   ]
  },
  {
   "cell_type": "markdown",
   "id": "bdecfc28-e052-4a36-b3a1-f693caaa0464",
   "metadata": {},
   "source": [
    "<b>Build the Network</b>"
   ]
  },
  {
   "cell_type": "markdown",
   "id": "0948f7c7-2e5f-45f6-ab3e-2e089bafb383",
   "metadata": {},
   "source": [
    "<b>Helper functions</b>"
   ]
  },
  {
   "cell_type": "code",
   "execution_count": 20,
   "id": "42cc8f39-6fda-430e-9aa0-cd41f00e46aa",
   "metadata": {},
   "outputs": [],
   "source": [
    "def sigmoid(z):\n",
    "    '''\n",
    "    compute sigmoid of input\n",
    "    \n",
    "    Args:\n",
    "    x -- numpy array\n",
    "    \n",
    "    return:\n",
    "    fx -- numpy array\n",
    "    '''\n",
    "    \n",
    "    return 1 / (1 + np.exp(-z))"
   ]
  },
  {
   "cell_type": "code",
   "execution_count": 22,
   "id": "4aa0335f-db6d-419a-b1ee-61cf0e2cb05d",
   "metadata": {},
   "outputs": [
    {
     "name": "stdout",
     "output_type": "stream",
     "text": [
      "sigmoid of z: [[0.84859158 0.50486664 0.27813871]]\n"
     ]
    }
   ],
   "source": [
    "# test sigmoid function\n",
    "\n",
    "z = np.random.randn(1,3)\n",
    "print(f'sigmoid of z: {sigmoid(z)}')"
   ]
  },
  {
   "cell_type": "markdown",
   "id": "d0ac75fe-a03f-4d7e-9118-77d1d6b5517f",
   "metadata": {},
   "source": [
    "<b>Initialize parameters</b>"
   ]
  },
  {
   "cell_type": "code",
   "execution_count": 78,
   "id": "652294f7-6638-4ead-a51f-c58687a494ea",
   "metadata": {},
   "outputs": [
    {
     "name": "stdout",
     "output_type": "stream",
     "text": [
      "weigths:\n",
      " [ 2.14737546  1.9447021   1.37272728 ...  0.24169549 -1.77309053\n",
      "  0.36976594] and shape: (12288,)\n",
      "bias:\n",
      " [-0.65049738 -0.25846468  1.48110358  0.73849391 -1.44207058 -0.88909773\n",
      " -0.44047805 -1.33374131 -1.89331462 -0.62936396  0.08772932  1.86850844\n",
      "  0.40228092 -0.93856982 -0.77735944  1.42975584  0.21159007  0.21572124\n",
      " -1.57363618  1.25029238  1.0266538   0.48199734  0.72470897  1.13021754\n",
      "  1.00484991 -1.18554711 -1.43311436  1.20147355 -1.0675913   0.84421234\n",
      "  1.51808055 -1.13863916 -1.94091484  0.90391802 -1.33811167 -0.72376481\n",
      " -0.29603755 -0.94152884 -1.48343352 -1.00225814 -0.6639329  -1.19401927\n",
      " -0.76823679  1.25013863 -1.02703294  0.32378868 -0.57491077 -1.50659698\n",
      "  0.12381704 -0.59462963 -1.00182219 -1.38252862 -0.13039296 -0.96629683\n",
      " -0.27284912  0.98343818  0.92652258 -0.14365174 -0.55181721 -0.67934231\n",
      " -1.00346898  1.30582124 -0.52435481  0.05741005 -0.48939728 -0.18096249\n",
      " -0.98689704 -0.26366157 -0.62891494 -0.21795937  0.42522727  0.10326338\n",
      "  1.40861996  1.03784113 -0.03604844  1.07143466 -0.13178626  0.05964208\n",
      "  0.06903852 -0.04565903  0.62578837 -0.9085194   0.20542806  1.37668901\n",
      " -0.3713274   0.86823969 -0.4028396  -1.30554295  0.38519898 -0.39466311\n",
      "  1.48212285  0.19374658 -0.0846779  -0.99343284 -1.63319101 -0.39822694\n",
      "  0.32802423  0.14465115  1.30141505  0.45105528 -0.25976893 -0.13259051\n",
      " -0.82687625  0.21490564  0.43929767  0.15898629  0.74714587  1.99586354\n",
      " -0.92557746  1.16890516 -0.5962513  -0.94959498  0.77652119 -1.0453469\n",
      " -0.10801455  1.82687442  0.23027245  1.60126299 -0.17342771  1.0034639\n",
      "  1.23033296 -0.2404356   0.3712528   1.14788581  1.03854643 -1.03971459\n",
      " -0.36752126  0.31465015 -0.73677967  1.24741191 -1.10242141 -0.72986471\n",
      " -0.38777195 -0.89201787  0.94453384 -0.08089941  0.56991705 -0.67708305\n",
      " -1.3668987  -0.57325892  0.08805197 -1.2110972   0.80825474 -0.29233311\n",
      " -1.0380129   1.13908145  1.72821841  0.00963577  0.5573875   0.53491316\n",
      "  0.26132344 -0.94948247 -1.29210338 -0.5022284   0.55521386  0.76217574\n",
      "  0.00592695 -0.87973382 -0.01450785  0.42712086 -1.60623909  0.22417455\n",
      " -0.43192242 -0.07022387 -2.01533927  1.20392633 -0.8160988   1.25532991\n",
      " -0.12085267 -1.31740826  1.94246078 -1.27117062 -1.07363739  0.25343372\n",
      "  0.3371929  -0.50460347  1.39914185  0.70954787 -0.18746577  1.10017767\n",
      " -1.15993549  0.4367985   1.28559892  0.57884285  0.22312274 -0.75466575\n",
      "  0.93315726 -0.19516388  1.18377053  1.60595911  0.94601738 -0.56805902\n",
      "  0.10253277 -0.43125428 -0.10507403 -1.20820393 -0.0292009  -1.47304201\n",
      "  0.91379626  0.31708285  1.65217271 -1.40333126  0.52103297  1.03164926\n",
      "  0.63233042  2.7060331  -0.98412162 -0.26228087 -0.67285743] and shape: (209,)\n"
     ]
    }
   ],
   "source": [
    "# init weights and bias with zeros\n",
    "W = np.random.randn(train_set_x.shape[0])\n",
    "b = np.random.randn(train_set_x.shape[1])\n",
    "print(f'weigths:\\n {W} and shape: {W.shape}')\n",
    "print(f'bias:\\n {b} and shape: {b.shape}')"
   ]
  },
  {
   "cell_type": "markdown",
   "id": "69bd95ac-14f4-4e60-a1f1-8d1c1df4ed42",
   "metadata": {},
   "source": [
    "<b>Forward and Backward Propagation</b>"
   ]
  },
  {
   "cell_type": "code",
   "execution_count": 79,
   "id": "d00fe7d4-ae03-432a-a338-85fcdd1c54a9",
   "metadata": {},
   "outputs": [],
   "source": [
    "def propagation(X, W, b, y):\n",
    "    '''\n",
    "    perform a single pass forward and backward propagation\n",
    "    \n",
    "    Args:\n",
    "    X -- numpy array of input\n",
    "    W -- numpy array of weights\n",
    "    b -- numpy array of bias\n",
    "    \n",
    "    return:\n",
    "    cache -- a dictionary stores forward loss and backward backward gradient\n",
    "    '''\n",
    "    \n",
    "    Z = np.dot(W.T, X) + b\n",
    "    fx = sigmoid(Z)\n",
    "    loss = -y * np.log(fx) - (1-y) * np.log(1-fx)\n",
    "    cost = np.sum(loss)\n",
    "    \n",
    "    dW = (fx * (1-fx)).dot(X.T)\n",
    "    db = fx * (1-fx)\n",
    "\n",
    "    cache = {\n",
    "        'cost': cost,\n",
    "        'dW': dW,\n",
    "        'db': db,\n",
    "    }\n",
    "    \n",
    "    return cache"
   ]
  },
  {
   "cell_type": "code",
   "execution_count": 80,
   "id": "ef4670fa-e6f1-4717-bea7-51384ac29150",
   "metadata": {},
   "outputs": [
    {
     "name": "stdout",
     "output_type": "stream",
     "text": [
      "cost: nan\n"
     ]
    },
    {
     "name": "stderr",
     "output_type": "stream",
     "text": [
      "/var/folders/89/vc8w_4y17m9fjk_xpfh7jv1m0000gn/T/ipykernel_17696/3294255127.py:12: RuntimeWarning: overflow encountered in exp\n",
      "  return 1 / (1 + np.exp(-z))\n",
      "/var/folders/89/vc8w_4y17m9fjk_xpfh7jv1m0000gn/T/ipykernel_17696/668532830.py:16: RuntimeWarning: divide by zero encountered in log\n",
      "  loss = -y * np.log(fx) - (1-y) * np.log(1-fx)\n",
      "/var/folders/89/vc8w_4y17m9fjk_xpfh7jv1m0000gn/T/ipykernel_17696/668532830.py:16: RuntimeWarning: invalid value encountered in multiply\n",
      "  loss = -y * np.log(fx) - (1-y) * np.log(1-fx)\n"
     ]
    }
   ],
   "source": [
    "# test forward pass\n",
    "cache = propagation(train_set_x, W, b, train_set_y)\n",
    "\n",
    "print(f\"cost: {cache['cost']}\")"
   ]
  },
  {
   "cell_type": "code",
   "execution_count": 81,
   "id": "e64c84b8-d3ad-4ce8-af3f-0f5e961af285",
   "metadata": {},
   "outputs": [],
   "source": [
    "# gradient descent\n",
    "\n",
    "def optimize(X, y, W, b, learning_rate, num_iter, propagation_fn):\n",
    "    '''\n",
    "    update weights and bias in gradient descent\n",
    "    \n",
    "    Args:\n",
    "    cache -- information about dW and db\n",
    "    \n",
    "    return:\n",
    "    W, b -- updated weights and bias\n",
    "    '''\n",
    "    \n",
    "    W = copy.deepcopy(W)\n",
    "    b = copy.deepcopy(b)\n",
    "    \n",
    "    cost_history = []\n",
    "    dW_history = []\n",
    "    db_history = []\n",
    "    \n",
    "    for i in range(num_iter):\n",
    "        cache = propagation(X, W, b, y)\n",
    "        cost = cache['cost']\n",
    "        dW = cache['dW']\n",
    "        db = cache['db']\n",
    "        W = W - dW * learning_rate\n",
    "        b = b - db * learning_rate\n",
    "        print(cost)\n",
    "        cost_history.append(cost)\n",
    "        dW_history.append(dW)\n",
    "        db_history.append(db)\n",
    "        \n",
    "    return cost_history, dW_history, db_history"
   ]
  },
  {
   "cell_type": "code",
   "execution_count": 82,
   "id": "afb27422-05a3-4b35-922c-4c56a965de00",
   "metadata": {},
   "outputs": [
    {
     "name": "stdout",
     "output_type": "stream",
     "text": [
      "nan\n",
      "nan\n",
      "nan\n",
      "nan\n",
      "nan\n",
      "nan\n",
      "nan\n",
      "nan\n",
      "nan\n",
      "nan\n"
     ]
    },
    {
     "name": "stderr",
     "output_type": "stream",
     "text": [
      "/var/folders/89/vc8w_4y17m9fjk_xpfh7jv1m0000gn/T/ipykernel_17696/3294255127.py:12: RuntimeWarning: overflow encountered in exp\n",
      "  return 1 / (1 + np.exp(-z))\n",
      "/var/folders/89/vc8w_4y17m9fjk_xpfh7jv1m0000gn/T/ipykernel_17696/668532830.py:16: RuntimeWarning: divide by zero encountered in log\n",
      "  loss = -y * np.log(fx) - (1-y) * np.log(1-fx)\n",
      "/var/folders/89/vc8w_4y17m9fjk_xpfh7jv1m0000gn/T/ipykernel_17696/668532830.py:16: RuntimeWarning: invalid value encountered in multiply\n",
      "  loss = -y * np.log(fx) - (1-y) * np.log(1-fx)\n"
     ]
    }
   ],
   "source": [
    "# test optimize\n",
    "learning_rate = 0.01\n",
    "iteration_number = 10\n",
    "cost_history, dW_history, db_history = optimize(train_set_x, train_set_y, W, b, learning_rate, iteration_number, propagation(train_set_x, W, b, train_set_y))\n",
    "#print(f'cost:\\n {cost_history}')\n",
    "#print(f'weights gradient:\\n {dW_history}')\n",
    "#print(f'bias gradient:\\n {db_history}')"
   ]
  },
  {
   "cell_type": "code",
   "execution_count": null,
   "id": "ff216ef4-39af-4c77-a572-68564cc43c53",
   "metadata": {},
   "outputs": [],
   "source": []
  }
 ],
 "metadata": {
  "kernelspec": {
   "display_name": "Python 3 (ipykernel)",
   "language": "python",
   "name": "python3"
  },
  "language_info": {
   "codemirror_mode": {
    "name": "ipython",
    "version": 3
   },
   "file_extension": ".py",
   "mimetype": "text/x-python",
   "name": "python",
   "nbconvert_exporter": "python",
   "pygments_lexer": "ipython3",
   "version": "3.9.12"
  }
 },
 "nbformat": 4,
 "nbformat_minor": 5
}
