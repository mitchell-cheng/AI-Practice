{
 "cells": [
  {
   "cell_type": "markdown",
   "id": "864d936e-abb7-410b-b33e-1768b561196a",
   "metadata": {},
   "source": [
    "<h1>Convolution Neural Network Application</h1>"
   ]
  },
  {
   "cell_type": "markdown",
   "id": "9497131b-3021-4fe1-8d28-b979cd253fe9",
   "metadata": {},
   "source": [
    "<h2>Import Dependencies</h2>"
   ]
  },
  {
   "cell_type": "code",
   "execution_count": 1,
   "id": "ecbb1914-ce4b-4108-8e5f-b1bdc9e11d3c",
   "metadata": {},
   "outputs": [],
   "source": [
    "import math\n",
    "import numpy as np\n",
    "import h5py\n",
    "import matplotlib.pyplot as plt\n",
    "from matplotlib.pyplot import imread\n",
    "import scipy\n",
    "from PIL import Image\n",
    "import pandas as pd\n",
    "import torch\n",
    "from cnn_utils import *"
   ]
  },
  {
   "cell_type": "code",
   "execution_count": 2,
   "id": "0b65e961-c05c-43de-b4be-d9ce32996959",
   "metadata": {},
   "outputs": [],
   "source": [
    "np.random.seed(1)"
   ]
  },
  {
   "cell_type": "markdown",
   "id": "92cf71eb-2076-4c66-be56-fce4da23bec4",
   "metadata": {},
   "source": [
    "<h2>Load Dataset</h2>"
   ]
  },
  {
   "cell_type": "code",
   "execution_count": 138,
   "id": "91222c7b-469a-4187-b1a4-6e8394f0e1a7",
   "metadata": {},
   "outputs": [],
   "source": [
    "train_set_x_orig, train_set_y_orig, test_set_x_orig, test_set_y_orig, classes = load_happy_dataset()"
   ]
  },
  {
   "cell_type": "code",
   "execution_count": 139,
   "id": "c429f0c9-96a2-4372-8cc9-46a33726fa67",
   "metadata": {},
   "outputs": [],
   "source": [
    "# normalize data\n",
    "\n",
    "train_X_orig = train_set_x_orig / 255.\n",
    "test_X_orig = test_set_x_orig / 255.\n",
    "train_Y_orig = train_set_y_orig.T\n",
    "test_Y_orig = test_set_y_orig.T"
   ]
  },
  {
   "cell_type": "code",
   "execution_count": 329,
   "id": "828ddb35-f105-424e-89a3-672ffb764c8d",
   "metadata": {},
   "outputs": [
    {
     "name": "stdout",
     "output_type": "stream",
     "text": [
      "training data shape: (600, 64, 64, 3)\n",
      "test data shape: (150, 64, 64, 3)\n",
      "training label shape: (600, 1)\n",
      "test label shape: (150, 1)\n",
      "image pixel: 64\n",
      "training sample num: 600\n",
      "test sample num: 150\n",
      "classes num: 2\n"
     ]
    }
   ],
   "source": [
    "# check the dataset\n",
    "print(f'training data shape: {train_X_orig.shape}')\n",
    "print(f'test data shape: {test_X_orig.shape}')\n",
    "print(f'training label shape: {train_Y_orig.shape}')\n",
    "print(f'test label shape: {test_Y_orig.shape}')\n",
    "print(f'image pixel: {train_X_orig.shape[1]}')\n",
    "print(f'training sample num: {train_X_orig.shape[0]}')\n",
    "print(f'test sample num: {test_X_orig.shape[0]}')\n",
    "print(f'classes num: {len(classes)}')"
   ]
  },
  {
   "cell_type": "code",
   "execution_count": 141,
   "id": "ade2b64f-3a59-43aa-99b6-746d9f7cf41c",
   "metadata": {},
   "outputs": [
    {
     "data": {
      "image/png": "[encoded data removed]",
      "text/plain": [
       "<Figure size 640x480 with 1 Axes>"
      ]
     },
     "metadata": {},
     "output_type": "display_data"
    }
   ],
   "source": [
    "# display an image\n",
    "index = 10\n",
    "plt.imshow(train_set_x_orig[index])\n",
    "plt.show()"
   ]
  },
  {
   "cell_type": "markdown",
   "id": "e4c1e581-eb66-4f4e-a828-97a86f82a8a2",
   "metadata": {},
   "source": [
    "<h2>Sequential Model</h2>"
   ]
  },
  {
   "cell_type": "code",
   "execution_count": 209,
   "id": "a173aad6-d386-442b-a9ee-2b7f9b1b07ae",
   "metadata": {},
   "outputs": [],
   "source": [
    "class happyModel(torch.nn.Module):\n",
    "    '''\n",
    "    Implements the forward propagation for the binary classification model:\n",
    "    ZEROPAD2D -> CONV2D -> BATCHNORM -> RELU -> MAXPOOL -> FLATTEN -> DENSE\n",
    "    \n",
    "    Args:\n",
    "    None\n",
    "\n",
    "    Returns:\n",
    "    model -- Pytorch model\n",
    "    '''\n",
    "    \n",
    "    def __init__(self):\n",
    "        super(happyModel, self).__init__()\n",
    "        self.model = torch.nn.Sequential(\n",
    "            torch.nn.ZeroPad2d((3,3,3,3)),\n",
    "            torch.nn.Conv2d(3,32,kernel_size=7,stride=1),\n",
    "            torch.nn.BatchNorm2d(32),\n",
    "            torch.nn.ReLU(),\n",
    "            torch.nn.MaxPool2d(kernel_size=2),\n",
    "            torch.nn.Flatten(),\n",
    "            torch.nn.Linear(32*32*32, 1),\n",
    "            torch.nn.Sigmoid()\n",
    "        )\n",
    "    \n",
    "    \n",
    "    def forward(self, x):\n",
    "        logits = self.model(x)\n",
    "        return logits\n",
    "    "
   ]
  },
  {
   "cell_type": "code",
   "execution_count": 210,
   "id": "a40633a1-2a28-4dfa-a05c-7cfd61c32499",
   "metadata": {},
   "outputs": [],
   "source": [
    "# check the model\n",
    "happy_model = happyModel()"
   ]
  },
  {
   "cell_type": "code",
   "execution_count": 336,
   "id": "63426698-3fd9-4d82-9d44-829d75708c19",
   "metadata": {},
   "outputs": [],
   "source": [
    "# define loss function and optimizer\n",
    "\n",
    "loss = torch.nn.CrossEntropyLoss()\n",
    "learning_rate = 1e-4\n",
    "optimizer = torch.optim.Adam(happy_model.parameters(), lr=learning_rate)"
   ]
  },
  {
   "cell_type": "code",
   "execution_count": 212,
   "id": "9a032ff0-0df2-4149-8294-381c245b81e7",
   "metadata": {},
   "outputs": [
    {
     "name": "stdout",
     "output_type": "stream",
     "text": [
      "cpu\n"
     ]
    }
   ],
   "source": [
    "# check available device\n",
    "\n",
    "device = 'cuda' if torch.cuda.is_available() else 'cpu'\n",
    "print(device)"
   ]
  },
  {
   "cell_type": "code",
   "execution_count": 278,
   "id": "7c4de91d-9049-440c-975d-b96d1f285e3b",
   "metadata": {},
   "outputs": [
    {
     "name": "stdout",
     "output_type": "stream",
     "text": [
      "float32\n",
      "int64\n",
      "float32\n",
      "int64\n",
      "----------------------------\n",
      "float32\n",
      "int64\n",
      "float32\n",
      "int64\n"
     ]
    }
   ],
   "source": [
    "# cast data type\n",
    "print(train_X_orig.dtype)\n",
    "print(train_Y_orig.dtype)\n",
    "print(test_X_orig.dtype)\n",
    "print(test_Y_orig.dtype)\n",
    "print('----------------------------')\n",
    "train_X_orig = train_X_orig.astype('float32')\n",
    "train_Y_orig = train_Y_orig.astype('int64')\n",
    "test_X_orig = test_X_orig.astype('float32')\n",
    "test_Y_orig = test_Y_orig.astype('int64')\n",
    "print(train_X_orig.dtype)\n",
    "print(train_Y_orig.dtype)\n",
    "print(test_X_orig.dtype)\n",
    "print(test_Y_orig.dtype)"
   ]
  },
  {
   "cell_type": "code",
   "execution_count": 234,
   "id": "06aec14e-2715-48b5-9dd7-a7d4596dd3c0",
   "metadata": {},
   "outputs": [
    {
     "name": "stdout",
     "output_type": "stream",
     "text": [
      "origin data shape: (600, 64, 64, 3)\n",
      "origin label shape: (600, 1)\n",
      "modify data shape: (600, 3, 64, 64)\n",
      "modify label shape: (600,)\n"
     ]
    }
   ],
   "source": [
    "# reshape data to Pytorch compatible\n",
    "\n",
    "print(f'origin data shape: {train_X_orig.shape}')\n",
    "print(f'origin label shape: {train_Y_orig.shape}')\n",
    "train_X = np.reshape(train_X_orig, (train_X_orig.shape[0], train_X_orig.shape[3], train_X_orig.shape[1], train_X_orig.shape[2]))\n",
    "#train_Y = np.reshape(train_Y_orig, (train_X_orig.shape[0],))\n",
    "print(f'modify data shape: {train_X.shape}')\n",
    "print(f'modify label shape: {train_Y.shape}')"
   ]
  },
  {
   "cell_type": "code",
   "execution_count": 215,
   "id": "9f109692-da0d-4c3f-b781-632254f48698",
   "metadata": {},
   "outputs": [
    {
     "name": "stdout",
     "output_type": "stream",
     "text": [
      "origin data shape: (150, 64, 64, 3)\n",
      "origin label shape: (150, 1)\n",
      "modify data shape: (150, 3, 64, 64)\n",
      "modify label shape: (150,)\n"
     ]
    }
   ],
   "source": [
    "# reshape data to Pytorch compatible\n",
    "\n",
    "print(f'origin data shape: {test_X_orig.shape}')\n",
    "print(f'origin label shape: {test_Y_orig.shape}')\n",
    "test_X = np.reshape(test_X_orig, (test_X_orig.shape[0], test_X_orig.shape[3], test_X_orig.shape[1], test_X_orig.shape[2]))\n",
    "test_Y = np.reshape(test_Y_orig, (test_X_orig.shape[0],))\n",
    "print(f'modify data shape: {test_X.shape}')\n",
    "print(f'modify label shape: {test_Y.shape}')"
   ]
  },
  {
   "cell_type": "code",
   "execution_count": 337,
   "id": "4dfaf6f6-49c9-4306-bfc2-87cd51be4508",
   "metadata": {},
   "outputs": [],
   "source": [
    "batch_size = 32\n",
    "train_dataset = torch.utils.data.TensorDataset(torch.from_numpy(train_X), torch.from_numpy(train_Y))\n",
    "train_dataloader = torch.utils.data.DataLoader(train_dataset,shuffle=True,batch_size=batch_size)"
   ]
  },
  {
   "cell_type": "code",
   "execution_count": 338,
   "id": "5ecbd9dd-9603-4b97-9def-41ae6efd7279",
   "metadata": {},
   "outputs": [],
   "source": [
    "def train(dataloader, model, loss_fn, optimizer):\n",
    "    size = len(dataloader.dataset)\n",
    "    model.train()\n",
    "    for batch, (X, y) in enumerate(dataloader):\n",
    "        X, y = X.to(device), y.to(device)\n",
    "        pred = model(X)\n",
    "        pred = torch.reshape(pred, (pred.shape[0],))\n",
    "        loss = loss_fn(pred, y.type(torch.float32))\n",
    "        optimizer.zero_grad()\n",
    "        loss.backward()\n",
    "        optimizer.step()\n",
    "        \n",
    "        print(f'train loss: {loss}')"
   ]
  },
  {
   "cell_type": "code",
   "execution_count": 339,
   "id": "54f9848d-15e4-48e3-a612-283b7ba53955",
   "metadata": {},
   "outputs": [],
   "source": [
    "test_dataset = torch.utils.data.TensorDataset(torch.from_numpy(test_X), torch.from_numpy(test_Y))\n",
    "test_dataloader = torch.utils.data.DataLoader(test_dataset, batch_size=batch_size)"
   ]
  },
  {
   "cell_type": "code",
   "execution_count": 348,
   "id": "8a42f15e-3d96-4623-8e54-3c77c2bcbf32",
   "metadata": {},
   "outputs": [],
   "source": [
    "def test(dataloader, model, loss_fn):\n",
    "    size = len(dataloader.dataset)\n",
    "    num_batches = len(dataloader)\n",
    "    model.eval()\n",
    "    test_loss, correct = 0., 0.\n",
    "    \n",
    "    with torch.no_grad():\n",
    "        for X, y in dataloader:\n",
    "            X, y = X.to(device), y.to(device)\n",
    "            pred = model(X)\n",
    "            print(X.shape)\n",
    "            print(y.shape)\n",
    "            pred = torch.reshape(pred, (pred.shape[0],))\n",
    "            test_loss += loss_fn(pred, y.type(torch.float32)).item()\n",
    "            correct += (pred.argmax(1) == y).type(torch.float).sum().item()\n",
    "    \n",
    "    test_loss /= num_batches\n",
    "    correct /= size\n",
    "    \n",
    "    print(f'Acc: {100 * correct} Avg Loss: {test_loss}')"
   ]
  },
  {
   "cell_type": "code",
   "execution_count": 349,
   "id": "5808507d-b52a-49c1-96e9-9da37b39c8fd",
   "metadata": {},
   "outputs": [
    {
     "name": "stdout",
     "output_type": "stream",
     "text": [
      "Epoch 1\n",
      "train loss: 65.84898376464844\n",
      "train loss: 62.38324737548828\n",
      "train loss: 72.78045654296875\n",
      "train loss: 62.38324737548828\n",
      "train loss: 58.917510986328125\n",
      "train loss: 45.0545654296875\n",
      "train loss: 58.917510986328125\n",
      "train loss: 51.98604202270508\n",
      "train loss: 48.52030563354492\n",
      "train loss: 51.98603820800781\n",
      "train loss: 51.98604202270508\n",
      "train loss: 41.588829040527344\n",
      "train loss: 38.12309646606445\n",
      "train loss: 62.38324737548828\n",
      "train loss: 51.98604202270508\n",
      "train loss: 55.45177459716797\n",
      "train loss: 48.52030563354492\n",
      "train loss: 65.84898376464844\n",
      "train loss: 41.314697265625\n",
      "torch.Size([32, 3, 64, 64])\n",
      "torch.Size([32])\n"
     ]
    },
    {
     "ename": "IndexError",
     "evalue": "Dimension out of range (expected to be in range of [-1, 0], but got 1)",
     "output_type": "error",
     "traceback": [
      "\u001b[0;31m---------------------------------------------------------------------------\u001b[0m",
      "\u001b[0;31mIndexError\u001b[0m                                Traceback (most recent call last)",
      "Cell \u001b[0;32mIn[349], line 6\u001b[0m\n\u001b[1;32m      4\u001b[0m \u001b[38;5;28mprint\u001b[39m(\u001b[38;5;124mf\u001b[39m\u001b[38;5;124m'\u001b[39m\u001b[38;5;124mEpoch \u001b[39m\u001b[38;5;132;01m{\u001b[39;00me \u001b[38;5;241m+\u001b[39m \u001b[38;5;241m1\u001b[39m\u001b[38;5;132;01m}\u001b[39;00m\u001b[38;5;124m'\u001b[39m)\n\u001b[1;32m      5\u001b[0m train(train_dataloader, happy_model, loss, optimizer)\n\u001b[0;32m----> 6\u001b[0m \u001b[43mtest\u001b[49m\u001b[43m(\u001b[49m\u001b[43mtest_dataloader\u001b[49m\u001b[43m,\u001b[49m\u001b[43m \u001b[49m\u001b[43mhappy_model\u001b[49m\u001b[43m,\u001b[49m\u001b[43m \u001b[49m\u001b[43mloss\u001b[49m\u001b[43m)\u001b[49m\n",
      "Cell \u001b[0;32mIn[348], line 15\u001b[0m, in \u001b[0;36mtest\u001b[0;34m(dataloader, model, loss_fn)\u001b[0m\n\u001b[1;32m     13\u001b[0m         pred \u001b[38;5;241m=\u001b[39m torch\u001b[38;5;241m.\u001b[39mreshape(pred, (pred\u001b[38;5;241m.\u001b[39mshape[\u001b[38;5;241m0\u001b[39m],))\n\u001b[1;32m     14\u001b[0m         test_loss \u001b[38;5;241m+\u001b[39m\u001b[38;5;241m=\u001b[39m loss_fn(pred, y\u001b[38;5;241m.\u001b[39mtype(torch\u001b[38;5;241m.\u001b[39mfloat32))\u001b[38;5;241m.\u001b[39mitem()\n\u001b[0;32m---> 15\u001b[0m         correct \u001b[38;5;241m+\u001b[39m\u001b[38;5;241m=\u001b[39m (\u001b[43mpred\u001b[49m\u001b[38;5;241;43m.\u001b[39;49m\u001b[43margmax\u001b[49m\u001b[43m(\u001b[49m\u001b[38;5;241;43m1\u001b[39;49m\u001b[43m)\u001b[49m \u001b[38;5;241m==\u001b[39m y)\u001b[38;5;241m.\u001b[39mtype(torch\u001b[38;5;241m.\u001b[39mfloat)\u001b[38;5;241m.\u001b[39msum()\u001b[38;5;241m.\u001b[39mitem()\n\u001b[1;32m     17\u001b[0m test_loss \u001b[38;5;241m/\u001b[39m\u001b[38;5;241m=\u001b[39m num_batches\n\u001b[1;32m     18\u001b[0m correct \u001b[38;5;241m/\u001b[39m\u001b[38;5;241m=\u001b[39m size\n",
      "\u001b[0;31mIndexError\u001b[0m: Dimension out of range (expected to be in range of [-1, 0], but got 1)"
     ]
    }
   ],
   "source": [
    "epochs = 10\n",
    "\n",
    "for e in range(epochs):\n",
    "    print(f'Epoch {e + 1}')\n",
    "    train(train_dataloader, happy_model, loss, optimizer)\n",
    "    test(test_dataloader, happy_model, loss)"
   ]
  },
  {
   "cell_type": "code",
   "execution_count": null,
   "id": "48c61946-e6ab-4d7e-8143-a22a02607507",
   "metadata": {},
   "outputs": [],
   "source": []
  },
  {
   "cell_type": "code",
   "execution_count": null,
   "id": "e8fa36b9-efcf-4ff6-b42a-d9de75dd52d7",
   "metadata": {},
   "outputs": [],
   "source": []
  }
 ],
 "metadata": {
  "kernelspec": {
   "display_name": "Python 3 (ipykernel)",
   "language": "python",
   "name": "python3"
  },
  "language_info": {
   "codemirror_mode": {
    "name": "ipython",
    "version": 3
   },
   "file_extension": ".py",
   "mimetype": "text/x-python",
   "name": "python",
   "nbconvert_exporter": "python",
   "pygments_lexer": "ipython3",
   "version": "3.9.12"
  }
 },
 "nbformat": 4,
 "nbformat_minor": 5
}
